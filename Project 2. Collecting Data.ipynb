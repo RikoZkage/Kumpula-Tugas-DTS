{
 "cells": [
  {
   "cell_type": "markdown",
   "metadata": {},
   "source": [
    "# Project 2. Collecting Data"
   ]
  },
  {
   "cell_type": "markdown",
   "metadata": {},
   "source": [
    "## Oleh : Muhamaad Nur Abdul 'Aziz"
   ]
  },
  {
   "cell_type": "markdown",
   "metadata": {},
   "source": [
    "## Data 1"
   ]
  },
  {
   "cell_type": "markdown",
   "metadata": {},
   "source": [
    "Diberikan data sebagai berikut.\n",
    "“penjualan.csv.” Data tersebut menggambarkan Biaya Iklan dan Pendapatan hasil penjualan Kotor (dalam juta)"
   ]
  },
  {
   "cell_type": "code",
   "execution_count": 15,
   "metadata": {},
   "outputs": [
    {
     "data": {
      "text/html": [
       "<div>\n",
       "<style scoped>\n",
       "    .dataframe tbody tr th:only-of-type {\n",
       "        vertical-align: middle;\n",
       "    }\n",
       "\n",
       "    .dataframe tbody tr th {\n",
       "        vertical-align: top;\n",
       "    }\n",
       "\n",
       "    .dataframe thead th {\n",
       "        text-align: right;\n",
       "    }\n",
       "</style>\n",
       "<table border=\"1\" class=\"dataframe\">\n",
       "  <thead>\n",
       "    <tr style=\"text-align: right;\">\n",
       "      <th></th>\n",
       "      <th>biaya_iklan</th>\n",
       "      <th>pendapatan</th>\n",
       "      <th>penjualan</th>\n",
       "    </tr>\n",
       "  </thead>\n",
       "  <tbody>\n",
       "    <tr>\n",
       "      <th>0</th>\n",
       "      <td>10.0</td>\n",
       "      <td>2244.366205</td>\n",
       "      <td>1000.000000</td>\n",
       "    </tr>\n",
       "    <tr>\n",
       "      <th>1</th>\n",
       "      <td>11.2</td>\n",
       "      <td>1473.934847</td>\n",
       "      <td>1473.934847</td>\n",
       "    </tr>\n",
       "    <tr>\n",
       "      <th>2</th>\n",
       "      <td>12.4</td>\n",
       "      <td>1893.448438</td>\n",
       "      <td>1893.448438</td>\n",
       "    </tr>\n",
       "    <tr>\n",
       "      <th>3</th>\n",
       "      <td>13.6</td>\n",
       "      <td>1665.540897</td>\n",
       "      <td>160000.000000</td>\n",
       "    </tr>\n",
       "    <tr>\n",
       "      <th>4</th>\n",
       "      <td>14.8</td>\n",
       "      <td>1931.386153</td>\n",
       "      <td>200000.000000</td>\n",
       "    </tr>\n",
       "    <tr>\n",
       "      <th>5</th>\n",
       "      <td>16.0</td>\n",
       "      <td>1789.442439</td>\n",
       "      <td>1789.442439</td>\n",
       "    </tr>\n",
       "    <tr>\n",
       "      <th>6</th>\n",
       "      <td>17.2</td>\n",
       "      <td>2344.919817</td>\n",
       "      <td>2344.919817</td>\n",
       "    </tr>\n",
       "    <tr>\n",
       "      <th>7</th>\n",
       "      <td>18.4</td>\n",
       "      <td>1961.630387</td>\n",
       "      <td>1961.630387</td>\n",
       "    </tr>\n",
       "    <tr>\n",
       "      <th>8</th>\n",
       "      <td>19.6</td>\n",
       "      <td>1687.757462</td>\n",
       "      <td>1687.757462</td>\n",
       "    </tr>\n",
       "    <tr>\n",
       "      <th>9</th>\n",
       "      <td>20.8</td>\n",
       "      <td>2716.530200</td>\n",
       "      <td>2716.530200</td>\n",
       "    </tr>\n",
       "    <tr>\n",
       "      <th>10</th>\n",
       "      <td>22.0</td>\n",
       "      <td>2131.628094</td>\n",
       "      <td>20000.000000</td>\n",
       "    </tr>\n",
       "    <tr>\n",
       "      <th>11</th>\n",
       "      <td>23.2</td>\n",
       "      <td>2128.157429</td>\n",
       "      <td>2128.157429</td>\n",
       "    </tr>\n",
       "    <tr>\n",
       "      <th>12</th>\n",
       "      <td>24.4</td>\n",
       "      <td>2171.308975</td>\n",
       "      <td>2171.308975</td>\n",
       "    </tr>\n",
       "    <tr>\n",
       "      <th>13</th>\n",
       "      <td>25.6</td>\n",
       "      <td>3031.098827</td>\n",
       "      <td>3031.098827</td>\n",
       "    </tr>\n",
       "    <tr>\n",
       "      <th>14</th>\n",
       "      <td>26.8</td>\n",
       "      <td>1892.724661</td>\n",
       "      <td>1800.000000</td>\n",
       "    </tr>\n",
       "    <tr>\n",
       "      <th>15</th>\n",
       "      <td>28.0</td>\n",
       "      <td>2106.089108</td>\n",
       "      <td>2106.089108</td>\n",
       "    </tr>\n",
       "    <tr>\n",
       "      <th>16</th>\n",
       "      <td>29.2</td>\n",
       "      <td>3560.560599</td>\n",
       "      <td>3560.560599</td>\n",
       "    </tr>\n",
       "    <tr>\n",
       "      <th>17</th>\n",
       "      <td>30.4</td>\n",
       "      <td>1969.934978</td>\n",
       "      <td>1969.934978</td>\n",
       "    </tr>\n",
       "    <tr>\n",
       "      <th>18</th>\n",
       "      <td>31.6</td>\n",
       "      <td>2202.979516</td>\n",
       "      <td>400.000000</td>\n",
       "    </tr>\n",
       "    <tr>\n",
       "      <th>19</th>\n",
       "      <td>32.8</td>\n",
       "      <td>3182.091137</td>\n",
       "      <td>3182.091137</td>\n",
       "    </tr>\n",
       "    <tr>\n",
       "      <th>20</th>\n",
       "      <td>34.0</td>\n",
       "      <td>3060.763527</td>\n",
       "      <td>3060.763527</td>\n",
       "    </tr>\n",
       "    <tr>\n",
       "      <th>21</th>\n",
       "      <td>35.2</td>\n",
       "      <td>3072.377419</td>\n",
       "      <td>2300.000000</td>\n",
       "    </tr>\n",
       "    <tr>\n",
       "      <th>22</th>\n",
       "      <td>36.4</td>\n",
       "      <td>3021.211910</td>\n",
       "      <td>3021.211910</td>\n",
       "    </tr>\n",
       "    <tr>\n",
       "      <th>23</th>\n",
       "      <td>37.6</td>\n",
       "      <td>2370.952475</td>\n",
       "      <td>2370.952475</td>\n",
       "    </tr>\n",
       "    <tr>\n",
       "      <th>24</th>\n",
       "      <td>38.8</td>\n",
       "      <td>3304.333763</td>\n",
       "      <td>2000.000000</td>\n",
       "    </tr>\n",
       "    <tr>\n",
       "      <th>25</th>\n",
       "      <td>40.0</td>\n",
       "      <td>3290.486238</td>\n",
       "      <td>3290.486238</td>\n",
       "    </tr>\n",
       "    <tr>\n",
       "      <th>26</th>\n",
       "      <td>41.2</td>\n",
       "      <td>4525.120746</td>\n",
       "      <td>4525.120746</td>\n",
       "    </tr>\n",
       "    <tr>\n",
       "      <th>27</th>\n",
       "      <td>42.4</td>\n",
       "      <td>3333.447047</td>\n",
       "      <td>3333.447047</td>\n",
       "    </tr>\n",
       "    <tr>\n",
       "      <th>28</th>\n",
       "      <td>43.6</td>\n",
       "      <td>3939.829342</td>\n",
       "      <td>3939.829342</td>\n",
       "    </tr>\n",
       "    <tr>\n",
       "      <th>29</th>\n",
       "      <td>44.8</td>\n",
       "      <td>2676.361205</td>\n",
       "      <td>2676.361205</td>\n",
       "    </tr>\n",
       "    <tr>\n",
       "      <th>...</th>\n",
       "      <td>...</td>\n",
       "      <td>...</td>\n",
       "      <td>...</td>\n",
       "    </tr>\n",
       "    <tr>\n",
       "      <th>70</th>\n",
       "      <td>94.0</td>\n",
       "      <td>4848.835060</td>\n",
       "      <td>4848.835060</td>\n",
       "    </tr>\n",
       "    <tr>\n",
       "      <th>71</th>\n",
       "      <td>95.2</td>\n",
       "      <td>4350.366610</td>\n",
       "      <td>4350.366610</td>\n",
       "    </tr>\n",
       "    <tr>\n",
       "      <th>72</th>\n",
       "      <td>96.4</td>\n",
       "      <td>4229.544432</td>\n",
       "      <td>4229.544432</td>\n",
       "    </tr>\n",
       "    <tr>\n",
       "      <th>73</th>\n",
       "      <td>97.6</td>\n",
       "      <td>4245.097436</td>\n",
       "      <td>4245.097436</td>\n",
       "    </tr>\n",
       "    <tr>\n",
       "      <th>74</th>\n",
       "      <td>98.8</td>\n",
       "      <td>4902.597828</td>\n",
       "      <td>4902.597828</td>\n",
       "    </tr>\n",
       "    <tr>\n",
       "      <th>75</th>\n",
       "      <td>100.0</td>\n",
       "      <td>4076.255842</td>\n",
       "      <td>4076.255842</td>\n",
       "    </tr>\n",
       "    <tr>\n",
       "      <th>76</th>\n",
       "      <td>101.2</td>\n",
       "      <td>4597.407969</td>\n",
       "      <td>4597.407969</td>\n",
       "    </tr>\n",
       "    <tr>\n",
       "      <th>77</th>\n",
       "      <td>102.4</td>\n",
       "      <td>4065.019339</td>\n",
       "      <td>4065.019339</td>\n",
       "    </tr>\n",
       "    <tr>\n",
       "      <th>78</th>\n",
       "      <td>103.6</td>\n",
       "      <td>4064.494194</td>\n",
       "      <td>4064.494194</td>\n",
       "    </tr>\n",
       "    <tr>\n",
       "      <th>79</th>\n",
       "      <td>104.8</td>\n",
       "      <td>4524.328809</td>\n",
       "      <td>4524.328809</td>\n",
       "    </tr>\n",
       "    <tr>\n",
       "      <th>80</th>\n",
       "      <td>106.0</td>\n",
       "      <td>4155.713828</td>\n",
       "      <td>4155.713828</td>\n",
       "    </tr>\n",
       "    <tr>\n",
       "      <th>81</th>\n",
       "      <td>107.2</td>\n",
       "      <td>3986.274236</td>\n",
       "      <td>3986.274236</td>\n",
       "    </tr>\n",
       "    <tr>\n",
       "      <th>82</th>\n",
       "      <td>108.4</td>\n",
       "      <td>4755.853193</td>\n",
       "      <td>4755.853193</td>\n",
       "    </tr>\n",
       "    <tr>\n",
       "      <th>83</th>\n",
       "      <td>109.6</td>\n",
       "      <td>4138.776839</td>\n",
       "      <td>4138.776839</td>\n",
       "    </tr>\n",
       "    <tr>\n",
       "      <th>84</th>\n",
       "      <td>110.8</td>\n",
       "      <td>4338.273868</td>\n",
       "      <td>4338.273868</td>\n",
       "    </tr>\n",
       "    <tr>\n",
       "      <th>85</th>\n",
       "      <td>112.0</td>\n",
       "      <td>3708.814390</td>\n",
       "      <td>3708.814390</td>\n",
       "    </tr>\n",
       "    <tr>\n",
       "      <th>86</th>\n",
       "      <td>113.2</td>\n",
       "      <td>4827.509064</td>\n",
       "      <td>4827.509064</td>\n",
       "    </tr>\n",
       "    <tr>\n",
       "      <th>87</th>\n",
       "      <td>114.4</td>\n",
       "      <td>5315.135710</td>\n",
       "      <td>5315.135710</td>\n",
       "    </tr>\n",
       "    <tr>\n",
       "      <th>88</th>\n",
       "      <td>115.6</td>\n",
       "      <td>4438.039513</td>\n",
       "      <td>4438.039513</td>\n",
       "    </tr>\n",
       "    <tr>\n",
       "      <th>89</th>\n",
       "      <td>116.8</td>\n",
       "      <td>3804.080099</td>\n",
       "      <td>3804.080099</td>\n",
       "    </tr>\n",
       "    <tr>\n",
       "      <th>90</th>\n",
       "      <td>118.0</td>\n",
       "      <td>3607.124893</td>\n",
       "      <td>3607.124893</td>\n",
       "    </tr>\n",
       "    <tr>\n",
       "      <th>91</th>\n",
       "      <td>119.2</td>\n",
       "      <td>5096.445309</td>\n",
       "      <td>5096.445309</td>\n",
       "    </tr>\n",
       "    <tr>\n",
       "      <th>92</th>\n",
       "      <td>120.4</td>\n",
       "      <td>4849.950670</td>\n",
       "      <td>4849.950670</td>\n",
       "    </tr>\n",
       "    <tr>\n",
       "      <th>93</th>\n",
       "      <td>121.6</td>\n",
       "      <td>4258.946678</td>\n",
       "      <td>4258.946678</td>\n",
       "    </tr>\n",
       "    <tr>\n",
       "      <th>94</th>\n",
       "      <td>122.8</td>\n",
       "      <td>5578.343010</td>\n",
       "      <td>5578.343010</td>\n",
       "    </tr>\n",
       "    <tr>\n",
       "      <th>95</th>\n",
       "      <td>124.0</td>\n",
       "      <td>3717.150864</td>\n",
       "      <td>3717.150864</td>\n",
       "    </tr>\n",
       "    <tr>\n",
       "      <th>96</th>\n",
       "      <td>125.2</td>\n",
       "      <td>4225.439726</td>\n",
       "      <td>4225.439726</td>\n",
       "    </tr>\n",
       "    <tr>\n",
       "      <th>97</th>\n",
       "      <td>126.4</td>\n",
       "      <td>3801.249621</td>\n",
       "      <td>3801.249621</td>\n",
       "    </tr>\n",
       "    <tr>\n",
       "      <th>98</th>\n",
       "      <td>127.6</td>\n",
       "      <td>4556.931624</td>\n",
       "      <td>4556.931624</td>\n",
       "    </tr>\n",
       "    <tr>\n",
       "      <th>99</th>\n",
       "      <td>128.8</td>\n",
       "      <td>4035.849249</td>\n",
       "      <td>4035.849249</td>\n",
       "    </tr>\n",
       "  </tbody>\n",
       "</table>\n",
       "<p>100 rows × 3 columns</p>\n",
       "</div>"
      ],
      "text/plain": [
       "    biaya_iklan   pendapatan      penjualan\n",
       "0          10.0  2244.366205    1000.000000\n",
       "1          11.2  1473.934847    1473.934847\n",
       "2          12.4  1893.448438    1893.448438\n",
       "3          13.6  1665.540897  160000.000000\n",
       "4          14.8  1931.386153  200000.000000\n",
       "5          16.0  1789.442439    1789.442439\n",
       "6          17.2  2344.919817    2344.919817\n",
       "7          18.4  1961.630387    1961.630387\n",
       "8          19.6  1687.757462    1687.757462\n",
       "9          20.8  2716.530200    2716.530200\n",
       "10         22.0  2131.628094   20000.000000\n",
       "11         23.2  2128.157429    2128.157429\n",
       "12         24.4  2171.308975    2171.308975\n",
       "13         25.6  3031.098827    3031.098827\n",
       "14         26.8  1892.724661    1800.000000\n",
       "15         28.0  2106.089108    2106.089108\n",
       "16         29.2  3560.560599    3560.560599\n",
       "17         30.4  1969.934978    1969.934978\n",
       "18         31.6  2202.979516     400.000000\n",
       "19         32.8  3182.091137    3182.091137\n",
       "20         34.0  3060.763527    3060.763527\n",
       "21         35.2  3072.377419    2300.000000\n",
       "22         36.4  3021.211910    3021.211910\n",
       "23         37.6  2370.952475    2370.952475\n",
       "24         38.8  3304.333763    2000.000000\n",
       "25         40.0  3290.486238    3290.486238\n",
       "26         41.2  4525.120746    4525.120746\n",
       "27         42.4  3333.447047    3333.447047\n",
       "28         43.6  3939.829342    3939.829342\n",
       "29         44.8  2676.361205    2676.361205\n",
       "..          ...          ...            ...\n",
       "70         94.0  4848.835060    4848.835060\n",
       "71         95.2  4350.366610    4350.366610\n",
       "72         96.4  4229.544432    4229.544432\n",
       "73         97.6  4245.097436    4245.097436\n",
       "74         98.8  4902.597828    4902.597828\n",
       "75        100.0  4076.255842    4076.255842\n",
       "76        101.2  4597.407969    4597.407969\n",
       "77        102.4  4065.019339    4065.019339\n",
       "78        103.6  4064.494194    4064.494194\n",
       "79        104.8  4524.328809    4524.328809\n",
       "80        106.0  4155.713828    4155.713828\n",
       "81        107.2  3986.274236    3986.274236\n",
       "82        108.4  4755.853193    4755.853193\n",
       "83        109.6  4138.776839    4138.776839\n",
       "84        110.8  4338.273868    4338.273868\n",
       "85        112.0  3708.814390    3708.814390\n",
       "86        113.2  4827.509064    4827.509064\n",
       "87        114.4  5315.135710    5315.135710\n",
       "88        115.6  4438.039513    4438.039513\n",
       "89        116.8  3804.080099    3804.080099\n",
       "90        118.0  3607.124893    3607.124893\n",
       "91        119.2  5096.445309    5096.445309\n",
       "92        120.4  4849.950670    4849.950670\n",
       "93        121.6  4258.946678    4258.946678\n",
       "94        122.8  5578.343010    5578.343010\n",
       "95        124.0  3717.150864    3717.150864\n",
       "96        125.2  4225.439726    4225.439726\n",
       "97        126.4  3801.249621    3801.249621\n",
       "98        127.6  4556.931624    4556.931624\n",
       "99        128.8  4035.849249    4035.849249\n",
       "\n",
       "[100 rows x 3 columns]"
      ]
     },
     "execution_count": 15,
     "metadata": {},
     "output_type": "execute_result"
    }
   ],
   "source": [
    "import pandas as pd\n",
    "import matplotlib.pyplot as plt\n",
    "import numpy as np\n",
    "\n",
    "data1 = pd.read_csv('G:\\Proyek 2 DTS\\penjualan.csv')\n",
    "data1"
   ]
  },
  {
   "cell_type": "markdown",
   "metadata": {},
   "source": [
    "### a) Dari data Biaya Iklan dan penjualan tersebut deskripsikan dalam bentuk visual yg cocok (sebutkan) dan boxplot dan berikan penjelasan informasi apa yang bisa diberikan sehingga bisa membantu pengambilan keputusan."
   ]
  },
  {
   "cell_type": "code",
   "execution_count": 5,
   "metadata": {},
   "outputs": [
    {
     "data": {
      "text/html": [
       "<div>\n",
       "<style scoped>\n",
       "    .dataframe tbody tr th:only-of-type {\n",
       "        vertical-align: middle;\n",
       "    }\n",
       "\n",
       "    .dataframe tbody tr th {\n",
       "        vertical-align: top;\n",
       "    }\n",
       "\n",
       "    .dataframe thead th {\n",
       "        text-align: right;\n",
       "    }\n",
       "</style>\n",
       "<table border=\"1\" class=\"dataframe\">\n",
       "  <thead>\n",
       "    <tr style=\"text-align: right;\">\n",
       "      <th></th>\n",
       "      <th>biaya_iklan</th>\n",
       "      <th>penjualan</th>\n",
       "    </tr>\n",
       "  </thead>\n",
       "  <tbody>\n",
       "    <tr>\n",
       "      <th>0</th>\n",
       "      <td>10.0</td>\n",
       "      <td>1000.000000</td>\n",
       "    </tr>\n",
       "    <tr>\n",
       "      <th>1</th>\n",
       "      <td>11.2</td>\n",
       "      <td>1473.934847</td>\n",
       "    </tr>\n",
       "    <tr>\n",
       "      <th>2</th>\n",
       "      <td>12.4</td>\n",
       "      <td>1893.448438</td>\n",
       "    </tr>\n",
       "    <tr>\n",
       "      <th>3</th>\n",
       "      <td>13.6</td>\n",
       "      <td>160000.000000</td>\n",
       "    </tr>\n",
       "    <tr>\n",
       "      <th>4</th>\n",
       "      <td>14.8</td>\n",
       "      <td>200000.000000</td>\n",
       "    </tr>\n",
       "  </tbody>\n",
       "</table>\n",
       "</div>"
      ],
      "text/plain": [
       "   biaya_iklan      penjualan\n",
       "0         10.0    1000.000000\n",
       "1         11.2    1473.934847\n",
       "2         12.4    1893.448438\n",
       "3         13.6  160000.000000\n",
       "4         14.8  200000.000000"
      ]
     },
     "execution_count": 5,
     "metadata": {},
     "output_type": "execute_result"
    }
   ],
   "source": [
    "data1a = data1[['biaya_iklan', 'penjualan']]\n",
    "data1a.head()"
   ]
  },
  {
   "cell_type": "code",
   "execution_count": 6,
   "metadata": {},
   "outputs": [
    {
     "data": {
      "text/html": [
       "<div>\n",
       "<style scoped>\n",
       "    .dataframe tbody tr th:only-of-type {\n",
       "        vertical-align: middle;\n",
       "    }\n",
       "\n",
       "    .dataframe tbody tr th {\n",
       "        vertical-align: top;\n",
       "    }\n",
       "\n",
       "    .dataframe thead th {\n",
       "        text-align: right;\n",
       "    }\n",
       "</style>\n",
       "<table border=\"1\" class=\"dataframe\">\n",
       "  <thead>\n",
       "    <tr style=\"text-align: right;\">\n",
       "      <th></th>\n",
       "      <th>biaya_iklan</th>\n",
       "      <th>penjualan</th>\n",
       "    </tr>\n",
       "  </thead>\n",
       "  <tbody>\n",
       "    <tr>\n",
       "      <th>count</th>\n",
       "      <td>100.00000</td>\n",
       "      <td>100.000000</td>\n",
       "    </tr>\n",
       "    <tr>\n",
       "      <th>mean</th>\n",
       "      <td>69.40000</td>\n",
       "      <td>7419.872413</td>\n",
       "    </tr>\n",
       "    <tr>\n",
       "      <th>std</th>\n",
       "      <td>34.81379</td>\n",
       "      <td>25014.999906</td>\n",
       "    </tr>\n",
       "    <tr>\n",
       "      <th>min</th>\n",
       "      <td>10.00000</td>\n",
       "      <td>400.000000</td>\n",
       "    </tr>\n",
       "    <tr>\n",
       "      <th>25%</th>\n",
       "      <td>39.70000</td>\n",
       "      <td>3322.706845</td>\n",
       "    </tr>\n",
       "    <tr>\n",
       "      <th>50%</th>\n",
       "      <td>69.40000</td>\n",
       "      <td>4011.061743</td>\n",
       "    </tr>\n",
       "    <tr>\n",
       "      <th>75%</th>\n",
       "      <td>99.10000</td>\n",
       "      <td>4524.526793</td>\n",
       "    </tr>\n",
       "    <tr>\n",
       "      <th>max</th>\n",
       "      <td>128.80000</td>\n",
       "      <td>200000.000000</td>\n",
       "    </tr>\n",
       "  </tbody>\n",
       "</table>\n",
       "</div>"
      ],
      "text/plain": [
       "       biaya_iklan      penjualan\n",
       "count    100.00000     100.000000\n",
       "mean      69.40000    7419.872413\n",
       "std       34.81379   25014.999906\n",
       "min       10.00000     400.000000\n",
       "25%       39.70000    3322.706845\n",
       "50%       69.40000    4011.061743\n",
       "75%       99.10000    4524.526793\n",
       "max      128.80000  200000.000000"
      ]
     },
     "execution_count": 6,
     "metadata": {},
     "output_type": "execute_result"
    }
   ],
   "source": [
    "data1a.describe()"
   ]
  },
  {
   "cell_type": "code",
   "execution_count": 17,
   "metadata": {},
   "outputs": [
    {
     "data": {
      "image/png": "[encoded data removed]",
      "text/plain": [
       "<Figure size 432x288 with 1 Axes>"
      ]
     },
     "metadata": {
      "needs_background": "light"
     },
     "output_type": "display_data"
    }
   ],
   "source": [
    "plt.scatter(data1a.biaya_iklan, data1a.penjualan)\n",
    "plt.xlabel(\"biaya_iklan\")\n",
    "plt.ylabel(\"penjualan\")\n",
    "plt.show()"
   ]
  },
  {
   "cell_type": "code",
   "execution_count": 37,
   "metadata": {},
   "outputs": [],
   "source": [
    "meanbiaya = data1a['biaya_iklan'].mean()\n",
    "stdbiaya = data1a['biaya_iklan'].std()\n",
    "meanjual = data1a['penjualan'].mean()\n",
    "stdjual = data1a['penjualan'].std()\n",
    "\n",
    "dataClean = data1a[(np.abs((data1a['biaya_iklan']-meanbiaya)/stdbiaya) <= 2) \n",
    "                 & (np.abs((data1a['penjualan']-meanjual)/stdjual) <= 2)]"
   ]
  },
  {
   "cell_type": "code",
   "execution_count": 38,
   "metadata": {},
   "outputs": [
    {
     "data": {
      "image/png": "[encoded data removed]",
      "text/plain": [
       "<Figure size 432x288 with 1 Axes>"
      ]
     },
     "metadata": {
      "needs_background": "light"
     },
     "output_type": "display_data"
    }
   ],
   "source": [
    "plt.scatter(dataClean.biaya_iklan, dataClean.penjualan)\n",
    "plt.xlabel(\"biaya_iklan\")\n",
    "plt.ylabel(\"penjualan\")\n",
    "plt.show()"
   ]
  },
  {
   "cell_type": "code",
   "execution_count": 49,
   "metadata": {},
   "outputs": [],
   "source": [
    "meanbiaya = dataClean['biaya_iklan'].mean()\n",
    "stdbiaya = dataClean['biaya_iklan'].std()\n",
    "meanjual = dataClean['penjualan'].mean()\n",
    "stdjual = dataClean['penjualan'].std()\n",
    "\n",
    "dataClean2 = dataClean[(np.abs((dataClean['biaya_iklan']-meanbiaya)/stdbiaya) <= 2) \n",
    "                 & (np.abs((dataClean['penjualan']-meanjual)/stdjual) <= 2)]"
   ]
  },
  {
   "cell_type": "code",
   "execution_count": 51,
   "metadata": {},
   "outputs": [
    {
     "data": {
      "image/png": "[encoded data removed]",
      "text/plain": [
       "<Figure size 432x288 with 1 Axes>"
      ]
     },
     "metadata": {
      "needs_background": "light"
     },
     "output_type": "display_data"
    }
   ],
   "source": [
    "plt.scatter(dataClean2.biaya_iklan, dataClean2.penjualan)\n",
    "plt.xlabel(\"biaya_iklan\")\n",
    "plt.ylabel(\"penjualan\")\n",
    "plt.show()"
   ]
  },
  {
   "cell_type": "code",
   "execution_count": 50,
   "metadata": {},
   "outputs": [
    {
     "data": {
      "text/plain": [
       "biaya_iklan    97\n",
       "penjualan      97\n",
       "dtype: int64"
      ]
     },
     "execution_count": 50,
     "metadata": {},
     "output_type": "execute_result"
    }
   ],
   "source": [
    "dataClean2.count()"
   ]
  },
  {
   "cell_type": "code",
   "execution_count": 52,
   "metadata": {},
   "outputs": [
    {
     "data": {
      "image/png": "[encoded data removed]",
      "text/plain": [
       "<Figure size 432x288 with 1 Axes>"
      ]
     },
     "metadata": {
      "needs_background": "light"
     },
     "output_type": "display_data"
    }
   ],
   "source": [
    "plt.boxplot(dataClean2['biaya_iklan'])\n",
    "plt.show()"
   ]
  },
  {
   "cell_type": "code",
   "execution_count": 53,
   "metadata": {},
   "outputs": [
    {
     "data": {
      "image/png": "[encoded data removed]",
      "text/plain": [
       "<Figure size 432x288 with 1 Axes>"
      ]
     },
     "metadata": {
      "needs_background": "light"
     },
     "output_type": "display_data"
    }
   ],
   "source": [
    "plt.boxplot(dataClean2['penjualan'])\n",
    "plt.show()"
   ]
  },
  {
   "cell_type": "code",
   "execution_count": 55,
   "metadata": {},
   "outputs": [
    {
     "data": {
      "text/html": [
       "<div>\n",
       "<style scoped>\n",
       "    .dataframe tbody tr th:only-of-type {\n",
       "        vertical-align: middle;\n",
       "    }\n",
       "\n",
       "    .dataframe tbody tr th {\n",
       "        vertical-align: top;\n",
       "    }\n",
       "\n",
       "    .dataframe thead th {\n",
       "        text-align: right;\n",
       "    }\n",
       "</style>\n",
       "<table border=\"1\" class=\"dataframe\">\n",
       "  <thead>\n",
       "    <tr style=\"text-align: right;\">\n",
       "      <th></th>\n",
       "      <th>biaya_iklan</th>\n",
       "      <th>penjualan</th>\n",
       "    </tr>\n",
       "  </thead>\n",
       "  <tbody>\n",
       "    <tr>\n",
       "      <th>count</th>\n",
       "      <td>97.000000</td>\n",
       "      <td>97.000000</td>\n",
       "    </tr>\n",
       "    <tr>\n",
       "      <th>mean</th>\n",
       "      <td>71.026804</td>\n",
       "      <td>3731.827230</td>\n",
       "    </tr>\n",
       "    <tr>\n",
       "      <th>std</th>\n",
       "      <td>34.063319</td>\n",
       "      <td>1040.075266</td>\n",
       "    </tr>\n",
       "    <tr>\n",
       "      <th>min</th>\n",
       "      <td>10.000000</td>\n",
       "      <td>400.000000</td>\n",
       "    </tr>\n",
       "    <tr>\n",
       "      <th>25%</th>\n",
       "      <td>42.400000</td>\n",
       "      <td>3290.486238</td>\n",
       "    </tr>\n",
       "    <tr>\n",
       "      <th>50%</th>\n",
       "      <td>71.200000</td>\n",
       "      <td>3985.096486</td>\n",
       "    </tr>\n",
       "    <tr>\n",
       "      <th>75%</th>\n",
       "      <td>100.000000</td>\n",
       "      <td>4518.495511</td>\n",
       "    </tr>\n",
       "    <tr>\n",
       "      <th>max</th>\n",
       "      <td>128.800000</td>\n",
       "      <td>5578.343010</td>\n",
       "    </tr>\n",
       "  </tbody>\n",
       "</table>\n",
       "</div>"
      ],
      "text/plain": [
       "       biaya_iklan    penjualan\n",
       "count    97.000000    97.000000\n",
       "mean     71.026804  3731.827230\n",
       "std      34.063319  1040.075266\n",
       "min      10.000000   400.000000\n",
       "25%      42.400000  3290.486238\n",
       "50%      71.200000  3985.096486\n",
       "75%     100.000000  4518.495511\n",
       "max     128.800000  5578.343010"
      ]
     },
     "execution_count": 55,
     "metadata": {},
     "output_type": "execute_result"
    }
   ],
   "source": [
    "dataClean2.describe()"
   ]
  },
  {
   "cell_type": "markdown",
   "metadata": {},
   "source": [
    "Berdasarkan deskripsi data diperoleh jumlah datanya adalah 97 data, rata-rata biaya iklannya 71.026804 juta rupiah dan rata-rata penjualannya 3731.827230 juta rupiah, standar deviasi biaya iklan dan penjualannya masing-masing adalah 34.063319 dan 1040.075266, biaya iklan minimalnya adalah 10.0000000 juta rupiah dan biaya iklan maksimalnya adalah 128.800000 juta rupiah, dan penjualan minimalnya adalah 400.0000000 juta rupiah dan penjualan maksimalnya adalah 5578.343010 juta rupiah."
   ]
  },
  {
   "cell_type": "markdown",
   "metadata": {},
   "source": [
    "Berdasarkan boxplot biaya iklan diperoleh nilai minimalnya 10.0000000, kuartil pertamanya 42.400000, kuartil kedua (median) adalah 71.200000, kuartil ketiganya adalah 100.000000, dan nilai maksimalnya 128.800000. Kemudian beredasarkan boxplot penjualan diperoleh nilai minimalnya adalah 400.000000, kuartil pertamanya 3290.486238, kuartil kedua (median) adalah 3985.096486, kuartil ketiganya adalah 4518.495511, nilai maksimalnya 20000.000000, dan pada boxplot penjualan terdapat 2 nilai outlier."
   ]
  },
  {
   "cell_type": "markdown",
   "metadata": {},
   "source": [
    "### b) Modelkan antara biaya iklan dan penjualan, beri penjelasan mana variable independen dan mana variable dependen , Menurut Anda apakah data di atas dapat didekati dengan model regresi linear? Jelaskan pendapat Anda!"
   ]
  },
  {
   "cell_type": "code",
   "execution_count": 57,
   "metadata": {},
   "outputs": [],
   "source": [
    "ddd = np.random.rand(len(dataClean2)) < 0.8\n",
    "train = dataClean2[ddd]\n",
    "test = dataClean2[~ddd]"
   ]
  },
  {
   "cell_type": "code",
   "execution_count": 58,
   "metadata": {},
   "outputs": [
    {
     "name": "stdout",
     "output_type": "stream",
     "text": [
      "Coefficients:  [[20.25890508]]\n",
      "Intercept:  [2300.87357077]\n"
     ]
    }
   ],
   "source": [
    "from sklearn import linear_model\n",
    "regr = linear_model.LinearRegression()\n",
    "xtrain = np.asanyarray(train[['biaya_iklan']])\n",
    "ytrain = np.asanyarray(train[['penjualan']])\n",
    "regr.fit (xtrain, ytrain)\n",
    "# The coefficients\n",
    "print ('Coefficients: ', regr.coef_)\n",
    "print ('Intercept: ',regr.intercept_)"
   ]
  },
  {
   "cell_type": "code",
   "execution_count": 59,
   "metadata": {},
   "outputs": [
    {
     "data": {
      "text/plain": [
       "Text(0, 0.5, 'penjualan')"
      ]
     },
     "execution_count": 59,
     "metadata": {},
     "output_type": "execute_result"
    },
    {
     "data": {
      "image/png": "[encoded data removed]",
      "text/plain": [
       "<Figure size 432x288 with 1 Axes>"
      ]
     },
     "metadata": {
      "needs_background": "light"
     },
     "output_type": "display_data"
    }
   ],
   "source": [
    "plt.scatter(train.biaya_iklan, train.penjualan,  color='blue')\n",
    "plt.plot(xtrain, regr.coef_[0][0]*xtrain + regr.intercept_[0], '-r')\n",
    "plt.xlabel(\"biaya_iklan\")\n",
    "plt.ylabel(\"penjualan\")"
   ]
  },
  {
   "cell_type": "code",
   "execution_count": 60,
   "metadata": {},
   "outputs": [
    {
     "name": "stdout",
     "output_type": "stream",
     "text": [
      "Mean absolute error: 561.41\n",
      "Residual sum of squares (MSE): 565888.79\n",
      "R2-score: -0.35\n"
     ]
    }
   ],
   "source": [
    "from sklearn.metrics import r2_score\n",
    "\n",
    "xtest = np.asanyarray(test[['biaya_iklan']])\n",
    "ytest = np.asanyarray(test[['penjualan']])\n",
    "ytest_ = regr.predict(xtest)\n",
    "\n",
    "print(\"Mean absolute error: %.2f\" % np.mean(np.absolute(ytest_ - ytest)))\n",
    "print(\"Residual sum of squares (MSE): %.2f\" % np.mean((ytest_ - ytest) ** 2))\n",
    "print(\"R2-score: %.2f\" % r2_score(ytest_ , ytest) )"
   ]
  },
  {
   "cell_type": "markdown",
   "metadata": {},
   "source": [
    "Berdasarkan hasil perhitungan model regresi linear dengan variabel independen(x) adalah biaya iklan dan variabel dependen(y) adalah penjualan,  diperoleh model regresinya adalah y = 2300.87357077 + 20.25890508x, karena nilai MSE yang besar dan nilai R2-score yang negatif, sehingga dapat disimpulkan model tidak baik untuk digunakan atau biaya iklan tidak berpengarih terhadap penjualan."
   ]
  },
  {
   "cell_type": "markdown",
   "metadata": {},
   "source": [
    "### c) Terapkan model regresi linear dan beberapa model regresi non linear, manakah yang terbaik berdasarkan MAE, MSE, dan R2 "
   ]
  },
  {
   "cell_type": "code",
   "execution_count": 63,
   "metadata": {},
   "outputs": [
    {
     "data": {
      "image/png": "[encoded data removed]",
      "text/plain": [
       "<Figure size 576x360 with 1 Axes>"
      ]
     },
     "metadata": {
      "needs_background": "light"
     },
     "output_type": "display_data"
    }
   ],
   "source": [
    "plt.figure(figsize=(8,5))\n",
    "x_data, y_data = (dataClean2[\"biaya_iklan\"].values, dataClean2[\"penjualan\"].values)\n",
    "plt.plot(x_data, y_data, 'ro')\n",
    "plt.ylabel('penjualan')\n",
    "plt.xlabel('biaya_iklan')\n",
    "plt.show()"
   ]
  },
  {
   "cell_type": "code",
   "execution_count": 79,
   "metadata": {},
   "outputs": [],
   "source": [
    "def sigmoid(x, Beta_1, Beta_2):\n",
    "     y = 1 / (1 + np.exp(-Beta_1*(x-Beta_2)))\n",
    "     return y\n",
    "def exponential(x, Beta_1, Beta_2):\n",
    "     y = Beta_1 * np.exp(Beta_2*x)\n",
    "     return y\n",
    "def polinomial(x, Beta_1, Beta_2, Beta_3, Beta_4):\n",
    "     y = Beta_1+Beta_2*x+ Beta_3*(x**2)+ Beta_4*(x**3)\n",
    "     return y"
   ]
  },
  {
   "cell_type": "code",
   "execution_count": 80,
   "metadata": {},
   "outputs": [],
   "source": [
    "xdata =x_data/max(x_data)\n",
    "ydata =y_data/max(y_data)"
   ]
  },
  {
   "cell_type": "code",
   "execution_count": 83,
   "metadata": {},
   "outputs": [
    {
     "name": "stdout",
     "output_type": "stream",
     "text": [
      " Sigmoid beta_1 = 2.758834, beta_2=0.251793\n",
      " Exponential beta_1 = 0.450041, beta_2=0.692295\n",
      " Polinomial beta_1 = 0.061812, beta_2=2.247551, beta_3 = -2.147059, beta_4 = 0.600937\n"
     ]
    }
   ],
   "source": [
    "from scipy.optimize import curve_fit\n",
    "popt1, pcov1 = curve_fit(sigmoid, xdata, ydata, maxfev = 10000)\n",
    "popt2, pcov2 = curve_fit (exponential, xdata, ydata, maxfev = 10000) \n",
    "popt3, pcov3 = curve_fit (polinomial, xdata, ydata, maxfev = 10000) \n",
    "\n",
    "#ini yang bener\n",
    "#print the final parameters\n",
    "print(\" Sigmoid\",\"beta_1 = %f, beta_2=%f\"%(popt1[0], popt1[1]))\n",
    "print(\" Exponential\",\"beta_1 = %f, beta_2=%f\"%(popt2[0], popt2[1]))\n",
    "print(\" Polinomial\",\"beta_1 = %f, beta_2=%f, beta_3 = %f, beta_4 = %f\"%(popt3[0], popt3[1], popt3[2], popt3[3]))"
   ]
  },
  {
   "cell_type": "code",
   "execution_count": 84,
   "metadata": {},
   "outputs": [
    {
     "data": {
      "image/png": "[encoded data removed]",
      "text/plain": [
       "<Figure size 576x360 with 1 Axes>"
      ]
     },
     "metadata": {
      "needs_background": "light"
     },
     "output_type": "display_data"
    }
   ],
   "source": [
    "x = np.linspace(10, 200, 1000)\n",
    "x = x/max(x)\n",
    "plt.figure(figsize=(8,5))\n",
    "\n",
    "y1 = sigmoid(x, *popt1)\n",
    "y2 = exponential(x, *popt2)\n",
    "y3 = polinomial(x, *popt3)\n",
    "\n",
    "plt.plot(xdata, ydata, 'ro', label='data')\n",
    "plt.plot(x,y1, linewidth=3.0, label='Sigmoid')\n",
    "plt.plot(x,y2, linewidth=3.0, label='Exponential')\n",
    "plt.plot(x,y3, linewidth=3.0, label='Polinomial')\n",
    "plt.legend(loc='best')\n",
    "plt.ylabel('penjualan')\n",
    "plt.xlabel('biaya iklan')\n",
    "plt.show()"
   ]
  },
  {
   "cell_type": "code",
   "execution_count": 86,
   "metadata": {},
   "outputs": [
    {
     "name": "stdout",
     "output_type": "stream",
     "text": [
      "Mean absolute error sigmoid: 0.10\n",
      "Mean absolute error exponential: 0.11\n",
      "Mean absolute error polinomial: 0.08\n",
      "Residual sum of squares (MSE) sigmoid: 0.02\n",
      "Residual sum of squares (MSE) exponential: 0.02\n",
      "Residual sum of squares (MSE) polinomial: 0.01\n",
      "R2-score sigmoid: 0.47\n",
      "R2-score exponential: 0.04\n",
      "R2-score polinomial: 0.69\n"
     ]
    }
   ],
   "source": [
    "msk = np.random.rand(len(dataClean2)) < 0.8\n",
    "train_x = xdata[msk]\n",
    "test_x = xdata[~msk]\n",
    "train_y = ydata[msk]\n",
    "test_y = ydata[~msk]\n",
    "\n",
    "popt1, pcov1 = curve_fit(sigmoid, train_x, train_y,maxfev=10000)\n",
    "popt2, pcov2 = curve_fit(exponential, train_x, train_y,maxfev=10000)\n",
    "popt3, pcov3 = curve_fit(polinomial, train_x, train_y,maxfev=10000)\n",
    "\n",
    "y_hat = sigmoid(test_x, *popt1)\n",
    "y_hat1 = exponential(test_x, *popt2)\n",
    "y_hat2 = polinomial(test_x, *popt3)\n",
    "\n",
    "print(\"Mean absolute error sigmoid: %.2f\" % np.mean(np.absolute(y_hat - test_y)))\n",
    "print(\"Mean absolute error exponential: %.2f\" % np.mean(np.absolute(y_hat1 - test_y)))\n",
    "print(\"Mean absolute error polinomial: %.2f\" % np.mean(np.absolute(y_hat2 - test_y)))\n",
    "print(\"Residual sum of squares (MSE) sigmoid: %.2f\" % np.mean((y_hat - test_y) ** 2))\n",
    "print(\"Residual sum of squares (MSE) exponential: %.2f\" % np.mean((y_hat1 - test_y) ** 2))\n",
    "print(\"Residual sum of squares (MSE) polinomial: %.2f\" % np.mean((y_hat2 - test_y) ** 2))\n",
    "from sklearn.metrics import r2_score\n",
    "print(\"R2-score sigmoid: %.2f\" % r2_score(y_hat , test_y) )\n",
    "print(\"R2-score exponential: %.2f\" % r2_score(y_hat1 , test_y) )\n",
    "print(\"R2-score polinomial: %.2f\" % r2_score(y_hat2 , test_y) )"
   ]
  },
  {
   "cell_type": "markdown",
   "metadata": {},
   "source": [
    "Berdasarkan perhitungan dengan menggunakan model regresi linear dan model regresi non-linear sigmoid, eksponensial, dan polinomial diperoleh bahwa model regresi non-linear polinomial adalah model yang paling cocok digunakan untuk memodelkan data penjualan karena memiliki nilai R2-score yang paling besar dan nilai MSE yang paling kecil."
   ]
  },
  {
   "cell_type": "markdown",
   "metadata": {},
   "source": [
    "### d) Terapkan K-Means Klastering , pilihlah klastering terbaik (banyak klaster optimal) untuk data di atas "
   ]
  },
  {
   "cell_type": "code",
   "execution_count": 87,
   "metadata": {},
   "outputs": [],
   "source": [
    "import random \n",
    "import numpy as np \n",
    "import matplotlib.pyplot as plt \n",
    "from sklearn.cluster import KMeans \n",
    "from sklearn.datasets.samples_generator import make_blobs \n",
    "%matplotlib inline"
   ]
  },
  {
   "cell_type": "code",
   "execution_count": 90,
   "metadata": {},
   "outputs": [],
   "source": [
    "np.random.seed(0)"
   ]
  },
  {
   "cell_type": "code",
   "execution_count": 98,
   "metadata": {},
   "outputs": [
    {
     "data": {
      "text/plain": [
       "array([[-2.64021146, -0.30744376],\n",
       "       [-2.1821707 , -0.30744376],\n",
       "       [-1.77672611, -0.30744376],\n",
       "       [-1.87724411, -0.30744376],\n",
       "       [-1.34039547, -0.30744376],\n",
       "       [-1.71083074, -0.30744376],\n",
       "       [-1.97551894, -0.30744376],\n",
       "       [-0.98124758,  1.44679418],\n",
       "       [-1.54988842, -0.30744376],\n",
       "       [-1.50818402, -0.30744376],\n",
       "       [-0.67722846,  1.44679418],\n",
       "       [-1.86704062, -0.30744376],\n",
       "       [-1.57121665, -0.30744376],\n",
       "       [-0.16552296,  1.44679418],\n",
       "       [-1.70280465, -0.30744376],\n",
       "       [-3.22008959, -0.30744376],\n",
       "       [-0.5312999 ,  1.44679418],\n",
       "       [-0.64855861,  1.44679418],\n",
       "       [-1.38380884, -0.30744376],\n",
       "       [-0.68678381,  1.44679418],\n",
       "       [-1.31523586, -0.30744376],\n",
       "       [-1.6737479 , -0.30744376],\n",
       "       [-0.42653998,  1.44679418],\n",
       "       [ 0.76668927,  0.56967521],\n",
       "       [-0.38501993,  1.44679418],\n",
       "       [ 0.20102646, -1.18456274],\n",
       "       [-1.02006945,  1.44679418],\n",
       "       [-0.15736864,  1.44679418],\n",
       "       [ 0.03450854, -1.18456274],\n",
       "       [ 0.42349776, -1.18456274],\n",
       "       [ 0.76545341,  0.56967521],\n",
       "       [-0.55850151,  1.44679418],\n",
       "       [ 0.41451993, -1.18456274],\n",
       "       [ 0.0192578 , -1.18456274],\n",
       "       [ 0.03484693, -1.18456274],\n",
       "       [ 0.24398134, -1.18456274],\n",
       "       [ 0.37074332, -1.18456274],\n",
       "       [-0.17216978,  1.44679418],\n",
       "       [ 0.87542435,  0.56967521],\n",
       "       [ 0.86802442,  0.56967521],\n",
       "       [-0.19392051,  1.44679418],\n",
       "       [ 0.7853902 ,  0.56967521],\n",
       "       [ 1.57637232,  0.56967521],\n",
       "       [-1.08764539,  1.44679418],\n",
       "       [-0.14851231,  1.44679418],\n",
       "       [-0.30812015,  1.44679418],\n",
       "       [ 0.76028622,  0.56967521],\n",
       "       [ 0.22699596, -1.18456274],\n",
       "       [ 0.04796737, -1.18456274],\n",
       "       [ 0.12109873, -1.18456274],\n",
       "       [ 0.7755936 ,  0.56967521],\n",
       "       [ 0.20504454, -1.18456274],\n",
       "       [ 0.24477551, -1.18456274],\n",
       "       [ 1.25143886,  0.56967521],\n",
       "       [ 0.83883997,  0.56967521],\n",
       "       [ 0.6688689 ,  0.56967521],\n",
       "       [-0.19994607,  1.44679418],\n",
       "       [ 0.74025725,  0.56967521],\n",
       "       [ 0.81860092,  0.56967521],\n",
       "       [ 0.49724163, -1.18456274],\n",
       "       [ 0.94883145,  0.56967521],\n",
       "       [ 0.66947222,  0.56967521],\n",
       "       [ 1.17061857,  0.56967521],\n",
       "       [ 0.93683909,  0.56967521],\n",
       "       [ 0.48866866, -1.18456274],\n",
       "       [-0.15334652,  1.44679418],\n",
       "       [ 0.5027634 , -1.18456274],\n",
       "       [ 1.07954736,  0.56967521],\n",
       "       [ 0.59779577, -1.18456274],\n",
       "       [ 0.48102554, -1.18456274],\n",
       "       [ 0.49605695, -1.18456274],\n",
       "       [ 1.13150712,  0.56967521],\n",
       "       [ 0.3328777 , -1.18456274],\n",
       "       [ 0.83655224,  0.56967521],\n",
       "       [ 0.32201803, -1.18456274],\n",
       "       [ 0.3215105 , -1.18456274],\n",
       "       [ 0.76592389,  0.56967521],\n",
       "       [ 0.40967095, -1.18456274],\n",
       "       [ 0.24591376, -1.18456274],\n",
       "       [ 0.98968377,  0.56967521],\n",
       "       [ 0.39330197, -1.18456274],\n",
       "       [ 0.58610857, -1.18456274],\n",
       "       [-0.02224107, -1.18456274],\n",
       "       [ 1.05893656,  0.56967521],\n",
       "       [ 1.53020994,  0.56967521],\n",
       "       [ 0.68252843,  0.56967521],\n",
       "       [ 0.06982976, -1.18456274],\n",
       "       [-0.12052026,  1.44679418],\n",
       "       [ 1.31885364,  0.56967521],\n",
       "       [ 1.08062556,  0.56967521],\n",
       "       [ 0.50944174, -1.18456274],\n",
       "       [ 1.78459021,  0.56967521],\n",
       "       [-0.01418417, -1.18456274],\n",
       "       [ 0.47705849, -1.18456274],\n",
       "       [ 0.06709421, -1.18456274],\n",
       "       [ 0.79743333,  0.56967521],\n",
       "       [ 0.2938262 , -1.18456274]])"
      ]
     },
     "execution_count": 98,
     "metadata": {},
     "output_type": "execute_result"
    }
   ],
   "source": [
    "from sklearn.preprocessing import StandardScaler\n",
    "X = dataClean2.values[:,1:]\n",
    "X = np.nan_to_num(X)\n",
    "Clus_dataSet = StandardScaler().fit_transform(X)\n",
    "Clus_dataSet"
   ]
  },
  {
   "cell_type": "code",
   "execution_count": 99,
   "metadata": {},
   "outputs": [
    {
     "name": "stdout",
     "output_type": "stream",
     "text": [
      "[1 1 1 1 1 1 1 3 1 1 3 1 1 3 1 1 3 3 1 3 1 1 3 2 3 0 3 3 0 0 2 3 0 0 0 0 0\n",
      " 3 2 2 3 2 2 3 3 3 2 0 0 0 2 0 0 2 2 2 3 2 2 0 2 2 2 2 0 3 0 2 0 0 0 2 0 2\n",
      " 0 0 2 0 0 2 0 0 0 2 2 2 0 3 2 2 0 2 0 0 0 2 0]\n"
     ]
    }
   ],
   "source": [
    "clusterNum = 4\n",
    "k_means = KMeans(init = \"k-means++\", n_clusters = clusterNum, n_init = 12)\n",
    "k_means.fit(X)\n",
    "labels = k_means.labels_\n",
    "print(labels)"
   ]
  },
  {
   "cell_type": "code",
   "execution_count": 100,
   "metadata": {},
   "outputs": [
    {
     "name": "stderr",
     "output_type": "stream",
     "text": [
      "C:\\Users\\DELL\\Anaconda3\\lib\\site-packages\\ipykernel_launcher.py:1: SettingWithCopyWarning: \n",
      "A value is trying to be set on a copy of a slice from a DataFrame.\n",
      "Try using .loc[row_indexer,col_indexer] = value instead\n",
      "\n",
      "See the caveats in the documentation: http://pandas.pydata.org/pandas-docs/stable/indexing.html#indexing-view-versus-copy\n",
      "  \"\"\"Entry point for launching an IPython kernel.\n"
     ]
    },
    {
     "data": {
      "text/plain": [
       "<bound method NDFrame.head of     biaya_iklan    penjualan  Clus_km\n",
       "0          10.0  1000.000000        1\n",
       "1          11.2  1473.934847        1\n",
       "2          12.4  1893.448438        1\n",
       "5          16.0  1789.442439        1\n",
       "6          17.2  2344.919817        1\n",
       "7          18.4  1961.630387        1\n",
       "8          19.6  1687.757462        1\n",
       "9          20.8  2716.530200        3\n",
       "11         23.2  2128.157429        1\n",
       "12         24.4  2171.308975        1\n",
       "13         25.6  3031.098827        3\n",
       "14         26.8  1800.000000        1\n",
       "15         28.0  2106.089108        1\n",
       "16         29.2  3560.560599        3\n",
       "17         30.4  1969.934978        1\n",
       "18         31.6   400.000000        1\n",
       "19         32.8  3182.091137        3\n",
       "20         34.0  3060.763527        3\n",
       "21         35.2  2300.000000        1\n",
       "22         36.4  3021.211910        3\n",
       "23         37.6  2370.952475        1\n",
       "24         38.8  2000.000000        1\n",
       "25         40.0  3290.486238        3\n",
       "26         41.2  4525.120746        2\n",
       "27         42.4  3333.447047        3\n",
       "28         43.6  3939.829342        0\n",
       "29         44.8  2676.361205        3\n",
       "30         46.0  3568.997870        3\n",
       "31         47.2  3767.533221        0\n",
       "32         48.4  4170.020427        0\n",
       "..          ...          ...      ...\n",
       "70         94.0  4848.835060        2\n",
       "71         95.2  4350.366610        0\n",
       "72         96.4  4229.544432        0\n",
       "73         97.6  4245.097436        0\n",
       "74         98.8  4902.597828        2\n",
       "75        100.0  4076.255842        0\n",
       "76        101.2  4597.407969        2\n",
       "77        102.4  4065.019339        0\n",
       "78        103.6  4064.494194        0\n",
       "79        104.8  4524.328809        2\n",
       "80        106.0  4155.713828        0\n",
       "81        107.2  3986.274236        0\n",
       "82        108.4  4755.853193        2\n",
       "83        109.6  4138.776839        0\n",
       "84        110.8  4338.273868        0\n",
       "85        112.0  3708.814390        0\n",
       "86        113.2  4827.509064        2\n",
       "87        114.4  5315.135710        2\n",
       "88        115.6  4438.039513        2\n",
       "89        116.8  3804.080099        0\n",
       "90        118.0  3607.124893        3\n",
       "91        119.2  5096.445309        2\n",
       "92        120.4  4849.950670        2\n",
       "93        121.6  4258.946678        0\n",
       "94        122.8  5578.343010        2\n",
       "95        124.0  3717.150864        0\n",
       "96        125.2  4225.439726        0\n",
       "97        126.4  3801.249621        0\n",
       "98        127.6  4556.931624        2\n",
       "99        128.8  4035.849249        0\n",
       "\n",
       "[97 rows x 3 columns]>"
      ]
     },
     "execution_count": 100,
     "metadata": {},
     "output_type": "execute_result"
    }
   ],
   "source": [
    "dataClean2[\"Clus_km\"] = labels\n",
    "dataClean2.head"
   ]
  },
  {
   "cell_type": "code",
   "execution_count": 101,
   "metadata": {},
   "outputs": [
    {
     "data": {
      "text/html": [
       "<div>\n",
       "<style scoped>\n",
       "    .dataframe tbody tr th:only-of-type {\n",
       "        vertical-align: middle;\n",
       "    }\n",
       "\n",
       "    .dataframe tbody tr th {\n",
       "        vertical-align: top;\n",
       "    }\n",
       "\n",
       "    .dataframe thead th {\n",
       "        text-align: right;\n",
       "    }\n",
       "</style>\n",
       "<table border=\"1\" class=\"dataframe\">\n",
       "  <thead>\n",
       "    <tr style=\"text-align: right;\">\n",
       "      <th></th>\n",
       "      <th>biaya_iklan</th>\n",
       "      <th>penjualan</th>\n",
       "    </tr>\n",
       "    <tr>\n",
       "      <th>Clus_km</th>\n",
       "      <th></th>\n",
       "      <th></th>\n",
       "    </tr>\n",
       "  </thead>\n",
       "  <tbody>\n",
       "    <tr>\n",
       "      <th>0</th>\n",
       "      <td>88.690909</td>\n",
       "      <td>4034.211855</td>\n",
       "    </tr>\n",
       "    <tr>\n",
       "      <th>1</th>\n",
       "      <td>23.800000</td>\n",
       "      <td>1837.348522</td>\n",
       "    </tr>\n",
       "    <tr>\n",
       "      <th>2</th>\n",
       "      <td>88.620690</td>\n",
       "      <td>4740.602557</td>\n",
       "    </tr>\n",
       "    <tr>\n",
       "      <th>3</th>\n",
       "      <td>53.263158</td>\n",
       "      <td>3262.273662</td>\n",
       "    </tr>\n",
       "  </tbody>\n",
       "</table>\n",
       "</div>"
      ],
      "text/plain": [
       "         biaya_iklan    penjualan\n",
       "Clus_km                          \n",
       "0          88.690909  4034.211855\n",
       "1          23.800000  1837.348522\n",
       "2          88.620690  4740.602557\n",
       "3          53.263158  3262.273662"
      ]
     },
     "execution_count": 101,
     "metadata": {},
     "output_type": "execute_result"
    }
   ],
   "source": [
    "dataClean2.groupby('Clus_km').mean()"
   ]
  },
  {
   "cell_type": "code",
   "execution_count": 102,
   "metadata": {},
   "outputs": [
    {
     "name": "stdout",
     "output_type": "stream",
     "text": [
      "0.5396835560577575\n"
     ]
    }
   ],
   "source": [
    "from sklearn.metrics import silhouette_score\n",
    "\n",
    "print(silhouette_score(X, k_means.labels_))"
   ]
  },
  {
   "cell_type": "code",
   "execution_count": 104,
   "metadata": {},
   "outputs": [
    {
     "name": "stdout",
     "output_type": "stream",
     "text": [
      "[0 0 0 0 0 0 0 0 0 0 0 0 0 1 0 0 0 0 0 0 0 0 1 1 1 1 0 1 1 1 1 0 1 1 1 1 1\n",
      " 1 1 1 1 1 1 0 1 1 1 1 1 1 1 1 1 1 1 1 1 1 1 1 1 1 1 1 1 1 1 1 1 1 1 1 1 1\n",
      " 1 1 1 1 1 1 1 1 1 1 1 1 1 1 1 1 1 1 1 1 1 1 1]\n"
     ]
    }
   ],
   "source": [
    "clusterNum = 2\n",
    "k_means = KMeans(init = \"k-means++\", n_clusters = clusterNum, n_init = 12)\n",
    "k_means.fit(X)\n",
    "labels = k_means.labels_\n",
    "print(labels)"
   ]
  },
  {
   "cell_type": "code",
   "execution_count": 105,
   "metadata": {},
   "outputs": [
    {
     "name": "stderr",
     "output_type": "stream",
     "text": [
      "C:\\Users\\DELL\\Anaconda3\\lib\\site-packages\\ipykernel_launcher.py:1: SettingWithCopyWarning: \n",
      "A value is trying to be set on a copy of a slice from a DataFrame.\n",
      "Try using .loc[row_indexer,col_indexer] = value instead\n",
      "\n",
      "See the caveats in the documentation: http://pandas.pydata.org/pandas-docs/stable/indexing.html#indexing-view-versus-copy\n",
      "  \"\"\"Entry point for launching an IPython kernel.\n"
     ]
    },
    {
     "data": {
      "text/plain": [
       "<bound method NDFrame.head of     biaya_iklan    penjualan  Clus_km\n",
       "0          10.0  1000.000000        0\n",
       "1          11.2  1473.934847        0\n",
       "2          12.4  1893.448438        0\n",
       "5          16.0  1789.442439        0\n",
       "6          17.2  2344.919817        0\n",
       "7          18.4  1961.630387        0\n",
       "8          19.6  1687.757462        0\n",
       "9          20.8  2716.530200        0\n",
       "11         23.2  2128.157429        0\n",
       "12         24.4  2171.308975        0\n",
       "13         25.6  3031.098827        0\n",
       "14         26.8  1800.000000        0\n",
       "15         28.0  2106.089108        0\n",
       "16         29.2  3560.560599        1\n",
       "17         30.4  1969.934978        0\n",
       "18         31.6   400.000000        0\n",
       "19         32.8  3182.091137        0\n",
       "20         34.0  3060.763527        0\n",
       "21         35.2  2300.000000        0\n",
       "22         36.4  3021.211910        0\n",
       "23         37.6  2370.952475        0\n",
       "24         38.8  2000.000000        0\n",
       "25         40.0  3290.486238        1\n",
       "26         41.2  4525.120746        1\n",
       "27         42.4  3333.447047        1\n",
       "28         43.6  3939.829342        1\n",
       "29         44.8  2676.361205        0\n",
       "30         46.0  3568.997870        1\n",
       "31         47.2  3767.533221        1\n",
       "32         48.4  4170.020427        1\n",
       "..          ...          ...      ...\n",
       "70         94.0  4848.835060        1\n",
       "71         95.2  4350.366610        1\n",
       "72         96.4  4229.544432        1\n",
       "73         97.6  4245.097436        1\n",
       "74         98.8  4902.597828        1\n",
       "75        100.0  4076.255842        1\n",
       "76        101.2  4597.407969        1\n",
       "77        102.4  4065.019339        1\n",
       "78        103.6  4064.494194        1\n",
       "79        104.8  4524.328809        1\n",
       "80        106.0  4155.713828        1\n",
       "81        107.2  3986.274236        1\n",
       "82        108.4  4755.853193        1\n",
       "83        109.6  4138.776839        1\n",
       "84        110.8  4338.273868        1\n",
       "85        112.0  3708.814390        1\n",
       "86        113.2  4827.509064        1\n",
       "87        114.4  5315.135710        1\n",
       "88        115.6  4438.039513        1\n",
       "89        116.8  3804.080099        1\n",
       "90        118.0  3607.124893        1\n",
       "91        119.2  5096.445309        1\n",
       "92        120.4  4849.950670        1\n",
       "93        121.6  4258.946678        1\n",
       "94        122.8  5578.343010        1\n",
       "95        124.0  3717.150864        1\n",
       "96        125.2  4225.439726        1\n",
       "97        126.4  3801.249621        1\n",
       "98        127.6  4556.931624        1\n",
       "99        128.8  4035.849249        1\n",
       "\n",
       "[97 rows x 3 columns]>"
      ]
     },
     "execution_count": 105,
     "metadata": {},
     "output_type": "execute_result"
    }
   ],
   "source": [
    "dataClean2[\"Clus_km\"] = labels\n",
    "dataClean2.head"
   ]
  },
  {
   "cell_type": "code",
   "execution_count": 106,
   "metadata": {},
   "outputs": [
    {
     "data": {
      "text/html": [
       "<div>\n",
       "<style scoped>\n",
       "    .dataframe tbody tr th:only-of-type {\n",
       "        vertical-align: middle;\n",
       "    }\n",
       "\n",
       "    .dataframe tbody tr th {\n",
       "        vertical-align: top;\n",
       "    }\n",
       "\n",
       "    .dataframe thead th {\n",
       "        text-align: right;\n",
       "    }\n",
       "</style>\n",
       "<table border=\"1\" class=\"dataframe\">\n",
       "  <thead>\n",
       "    <tr style=\"text-align: right;\">\n",
       "      <th></th>\n",
       "      <th>biaya_iklan</th>\n",
       "      <th>penjualan</th>\n",
       "    </tr>\n",
       "    <tr>\n",
       "      <th>Clus_km</th>\n",
       "      <th></th>\n",
       "      <th></th>\n",
       "    </tr>\n",
       "  </thead>\n",
       "  <tbody>\n",
       "    <tr>\n",
       "      <th>0</th>\n",
       "      <td>28.800000</td>\n",
       "      <td>2201.917465</td>\n",
       "    </tr>\n",
       "    <tr>\n",
       "      <th>1</th>\n",
       "      <td>84.909589</td>\n",
       "      <td>4234.811262</td>\n",
       "    </tr>\n",
       "  </tbody>\n",
       "</table>\n",
       "</div>"
      ],
      "text/plain": [
       "         biaya_iklan    penjualan\n",
       "Clus_km                          \n",
       "0          28.800000  2201.917465\n",
       "1          84.909589  4234.811262"
      ]
     },
     "execution_count": 106,
     "metadata": {},
     "output_type": "execute_result"
    }
   ],
   "source": [
    "dataClean2.groupby('Clus_km').mean()"
   ]
  },
  {
   "cell_type": "code",
   "execution_count": 107,
   "metadata": {},
   "outputs": [
    {
     "name": "stdout",
     "output_type": "stream",
     "text": [
      "0.666352149194058\n"
     ]
    }
   ],
   "source": [
    "print(silhouette_score(X, k_means.labels_))"
   ]
  },
  {
   "cell_type": "markdown",
   "metadata": {},
   "source": [
    "Menggunakan K-Means klustering, jumlah klaster terbaiknya adalah 2, karena nilai silhouettenya mendekati 1."
   ]
  },
  {
   "cell_type": "markdown",
   "metadata": {},
   "source": [
    "# Data 2"
   ]
  },
  {
   "cell_type": "markdown",
   "metadata": {},
   "source": [
    "Terapkan beberapa model klasifikasi dan pilihlah manakah model yang terbaik di antara model yang\n",
    "Anda terapkan beserta dengan penjelasannya ambil X1-X5."
   ]
  },
  {
   "cell_type": "markdown",
   "metadata": {},
   "source": [
    "Diberikan data mengenai survey kebahagiaan warga yang terdiri dari 7 atribut sebagai berikut\n",
    "D = decision attribute (D) with values 0 (unhappy) and 1 (happy),\n",
    "X1 = the availability of information about the city services,\n",
    "X2 = the cost of housing,\n",
    "X3 = the overall quality of public schools,\n",
    "X4 = your trust in the local police,\n",
    "X5 = the maintenance of streets and sidewalks, dan\n",
    "X6 = the availability of social community events."
   ]
  },
  {
   "cell_type": "code",
   "execution_count": 120,
   "metadata": {},
   "outputs": [
    {
     "data": {
      "text/html": [
       "<div>\n",
       "<style scoped>\n",
       "    .dataframe tbody tr th:only-of-type {\n",
       "        vertical-align: middle;\n",
       "    }\n",
       "\n",
       "    .dataframe tbody tr th {\n",
       "        vertical-align: top;\n",
       "    }\n",
       "\n",
       "    .dataframe thead th {\n",
       "        text-align: right;\n",
       "    }\n",
       "</style>\n",
       "<table border=\"1\" class=\"dataframe\">\n",
       "  <thead>\n",
       "    <tr style=\"text-align: right;\">\n",
       "      <th></th>\n",
       "      <th>D,X1,X2,X3,X4,X5,X6</th>\n",
       "    </tr>\n",
       "  </thead>\n",
       "  <tbody>\n",
       "    <tr>\n",
       "      <th>0</th>\n",
       "      <td>0,3,3,3,4,2,4</td>\n",
       "    </tr>\n",
       "    <tr>\n",
       "      <th>1</th>\n",
       "      <td>0,3,2,3,5,4,3</td>\n",
       "    </tr>\n",
       "    <tr>\n",
       "      <th>2</th>\n",
       "      <td>1,5,3,3,3,3,5</td>\n",
       "    </tr>\n",
       "    <tr>\n",
       "      <th>3</th>\n",
       "      <td>0,5,4,3,3,3,5</td>\n",
       "    </tr>\n",
       "    <tr>\n",
       "      <th>4</th>\n",
       "      <td>0,5,4,3,3,3,5</td>\n",
       "    </tr>\n",
       "  </tbody>\n",
       "</table>\n",
       "</div>"
      ],
      "text/plain": [
       "  D,X1,X2,X3,X4,X5,X6\n",
       "0       0,3,3,3,4,2,4\n",
       "1       0,3,2,3,5,4,3\n",
       "2       1,5,3,3,3,3,5\n",
       "3       0,5,4,3,3,3,5\n",
       "4       0,5,4,3,3,3,5"
      ]
     },
     "execution_count": 120,
     "metadata": {},
     "output_type": "execute_result"
    }
   ],
   "source": [
    "import pandas as pd\n",
    "import numpy as np\n",
    "import matplotlib.pyplot as plt\n",
    "\n",
    "data2 = pd.read_csv('G:\\Proyek 2 DTS\\proyekklasifikasi.csv')\n",
    "data2.head(5)"
   ]
  },
  {
   "cell_type": "code",
   "execution_count": 121,
   "metadata": {},
   "outputs": [
    {
     "name": "stdout",
     "output_type": "stream",
     "text": [
      "     D  X1  X2  X3  X4  X5\n",
      "0    0   3   3   3   4   2\n",
      "1    0   3   2   3   5   4\n",
      "2    1   5   3   3   3   3\n",
      "3    0   5   4   3   3   3\n",
      "4    0   5   4   3   3   3\n",
      "5    1   5   5   3   5   5\n",
      "6    0   3   1   2   2   1\n",
      "7    1   5   4   4   4   4\n",
      "8    0   4   1   4   4   4\n",
      "9    0   4   4   4   2   5\n",
      "10   0   3   2   3   3   2\n",
      "11   0   4   4   3   4   4\n",
      "12   1   5   2   4   5   5\n",
      "13   0   4   2   4   5   4\n",
      "14   0   4   1   3   3   4\n",
      "15   1   3   2   4   3   4\n",
      "16   0   5   3   4   5   4\n",
      "17   1   5   1   4   3   4\n",
      "18   0   5   1   2   4   4\n",
      "19   0   4   2   4   4   4\n",
      "20   1   4   2   3   3   4\n",
      "21   1   4   2   3   3   4\n",
      "22   0   4   3   5   5   5\n",
      "23   0   4   3   5   5   5\n",
      "24   1   5   1   2   5   2\n",
      "25   1   4   3   3   3   3\n",
      "26   0   3   4   3   3   2\n",
      "27   1   3   3   3   5   5\n",
      "28   1   3   3   1   3   3\n",
      "29   1   3   3   1   3   3\n",
      "..  ..  ..  ..  ..  ..  ..\n",
      "113  1   5   3   4   3   4\n",
      "114  0   5   2   3   3   3\n",
      "115  1   4   3   4   4   3\n",
      "116  0   3   2   2   3   3\n",
      "117  0   4   1   3   5   3\n",
      "118  1   5   1   4   3   5\n",
      "119  0   4   1   3   2   4\n",
      "120  1   5   1   5   3   5\n",
      "121  0   4   2   4   4   4\n",
      "122  0   5   2   4   4   5\n",
      "123  1   5   3   4   4   4\n",
      "124  1   5   2   4   4   2\n",
      "125  0   5   3   3   4   4\n",
      "126  0   5   3   3   4   4\n",
      "127  0   3   2   3   3   5\n",
      "128  0   4   1   3   3   3\n",
      "129  0   5   1   4   4   4\n",
      "130  0   5   2   2   4   4\n",
      "131  0   5   3   5   4   5\n",
      "132  1   3   4   4   5   1\n",
      "133  1   5   1   5   5   5\n",
      "134  1   4   3   3   4   4\n",
      "135  1   5   5   1   1   5\n",
      "136  0   4   4   4   4   1\n",
      "137  1   5   2   3   4   4\n",
      "138  0   5   3   3   1   3\n",
      "139  1   5   2   3   4   2\n",
      "140  1   5   3   3   4   4\n",
      "141  0   4   3   3   4   4\n",
      "142  0   5   3   2   5   5\n",
      "\n",
      "[143 rows x 6 columns]\n"
     ]
    }
   ],
   "source": [
    "array = data2.values.tolist()\n",
    "df = pd.DataFrame()\n",
    "\n",
    "D = []\n",
    "X1 = []\n",
    "X2 = []\n",
    "X3 = []\n",
    "X4 = []\n",
    "X5 = []\n",
    "\n",
    "for i in range(len(array)):\n",
    "    data2a = ''.join(array[i]).split(',')\n",
    "    \n",
    "    D.append(int(data2a[0]))\n",
    "    X1.append(int(data2a[1]))\n",
    "    X2.append(int(data2a[2]))\n",
    "    X3.append(int(data2a[3]))\n",
    "    X4.append(int(data2a[4]))\n",
    "    X5.append(int(data2a[5]))\n",
    "    \n",
    "df['D'] = D\n",
    "df['X1'] = X1\n",
    "df['X2'] = X2\n",
    "df['X3'] = X3\n",
    "df['X4'] = X4\n",
    "df['X5'] = X5\n",
    "\n",
    "print(df)"
   ]
  },
  {
   "cell_type": "code",
   "execution_count": 123,
   "metadata": {},
   "outputs": [
    {
     "data": {
      "image/png": "[encoded data removed]",
      "text/plain": [
       "<Figure size 648x648 with 25 Axes>"
      ]
     },
     "metadata": {
      "needs_background": "light"
     },
     "output_type": "display_data"
    }
   ],
   "source": [
    "from pandas.plotting import scatter_matrix #aslinya: pandas.tools.plotting\n",
    "from matplotlib import cm\n",
    "feature_names = ['X1', 'X2', 'X3', 'X4', 'X5']\n",
    "X = df[feature_names]\n",
    "y = df['D']\n",
    "cmap = cm.get_cmap('gnuplot')\n",
    "scatter = scatter_matrix(X, c = y, marker = 'o', s=40, hist_kwds={'bins':15}, figsize=(9,9), cmap = cmap)\n",
    "plt.suptitle('Scatter-matrix for each input variable')\n",
    "plt.savefig('fruits_scatter_matrix')"
   ]
  },
  {
   "cell_type": "code",
   "execution_count": 114,
   "metadata": {},
   "outputs": [
    {
     "name": "stderr",
     "output_type": "stream",
     "text": [
      "C:\\Users\\DELL\\Anaconda3\\lib\\site-packages\\sklearn\\preprocessing\\data.py:334: DataConversionWarning: Data with input dtype int64 were all converted to float64 by MinMaxScaler.\n",
      "  return self.partial_fit(X, y)\n"
     ]
    }
   ],
   "source": [
    "from sklearn.model_selection import train_test_split\n",
    "\n",
    "X = df[['X1','X2','X3','X4','X5']]\n",
    "Y = df[['D']]\n",
    "X_train, X_test, y_train, y_test = train_test_split(X, Y, random_state=0)\n",
    "\n",
    "from sklearn.preprocessing import MinMaxScaler\n",
    "scaler = MinMaxScaler()\n",
    "X_train = scaler.fit_transform(X_train)\n",
    "X_test = scaler.transform(X_test)"
   ]
  },
  {
   "cell_type": "markdown",
   "metadata": {},
   "source": [
    "- Model Logistik"
   ]
  },
  {
   "cell_type": "code",
   "execution_count": 115,
   "metadata": {},
   "outputs": [
    {
     "name": "stdout",
     "output_type": "stream",
     "text": [
      "Accuracy of Logistic regression classifier on training set: 0.63\n",
      "Accuracy of Logistic regression classifier on test set: 0.56\n"
     ]
    },
    {
     "name": "stderr",
     "output_type": "stream",
     "text": [
      "C:\\Users\\DELL\\Anaconda3\\lib\\site-packages\\sklearn\\linear_model\\logistic.py:433: FutureWarning: Default solver will be changed to 'lbfgs' in 0.22. Specify a solver to silence this warning.\n",
      "  FutureWarning)\n",
      "C:\\Users\\DELL\\Anaconda3\\lib\\site-packages\\sklearn\\utils\\validation.py:761: DataConversionWarning: A column-vector y was passed when a 1d array was expected. Please change the shape of y to (n_samples, ), for example using ravel().\n",
      "  y = column_or_1d(y, warn=True)\n"
     ]
    }
   ],
   "source": [
    "from sklearn.linear_model import LogisticRegression\n",
    "logreg = LogisticRegression()\n",
    "logreg.fit(X_train, y_train)\n",
    "print('Accuracy of Logistic regression classifier on training set: {:.2f}'\n",
    "     .format(logreg.score(X_train, y_train)))\n",
    "print('Accuracy of Logistic regression classifier on test set: {:.2f}'\n",
    "     .format(logreg.score(X_test, y_test)))"
   ]
  },
  {
   "cell_type": "markdown",
   "metadata": {},
   "source": [
    "- Model Decision Tree"
   ]
  },
  {
   "cell_type": "code",
   "execution_count": 124,
   "metadata": {},
   "outputs": [
    {
     "name": "stdout",
     "output_type": "stream",
     "text": [
      "Accuracy of Decision Tree classifier on training set: 0.93\n",
      "Accuracy of Decision Tree classifier on test set: 0.61\n"
     ]
    }
   ],
   "source": [
    "from sklearn.tree import DecisionTreeClassifier\n",
    "clf = DecisionTreeClassifier().fit(X_train, y_train)\n",
    "print('Accuracy of Decision Tree classifier on training set: {:.2f}'\n",
    "     .format(clf.score(X_train, y_train)))\n",
    "print('Accuracy of Decision Tree classifier on test set: {:.2f}'\n",
    "     .format(clf.score(X_test, y_test)))"
   ]
  },
  {
   "cell_type": "markdown",
   "metadata": {},
   "source": [
    "- Model KNieghbour Classifier"
   ]
  },
  {
   "cell_type": "code",
   "execution_count": 125,
   "metadata": {},
   "outputs": [
    {
     "name": "stdout",
     "output_type": "stream",
     "text": [
      "Accuracy of K-NN classifier on training set: 0.74\n",
      "Accuracy of K-NN classifier on test set: 0.33\n"
     ]
    },
    {
     "name": "stderr",
     "output_type": "stream",
     "text": [
      "C:\\Users\\DELL\\Anaconda3\\lib\\site-packages\\ipykernel_launcher.py:3: DataConversionWarning: A column-vector y was passed when a 1d array was expected. Please change the shape of y to (n_samples, ), for example using ravel().\n",
      "  This is separate from the ipykernel package so we can avoid doing imports until\n"
     ]
    }
   ],
   "source": [
    "from sklearn.neighbors import KNeighborsClassifier\n",
    "knn = KNeighborsClassifier()\n",
    "knn.fit(X_train, y_train)\n",
    "print('Accuracy of K-NN classifier on training set: {:.2f}'\n",
    "     .format(knn.score(X_train, y_train)))\n",
    "print('Accuracy of K-NN classifier on test set: {:.2f}'\n",
    "     .format(knn.score(X_test, y_test)))"
   ]
  },
  {
   "cell_type": "markdown",
   "metadata": {},
   "source": [
    "- Model Linear Discriminant Analyst"
   ]
  },
  {
   "cell_type": "code",
   "execution_count": 126,
   "metadata": {},
   "outputs": [
    {
     "name": "stderr",
     "output_type": "stream",
     "text": [
      "C:\\Users\\DELL\\Anaconda3\\lib\\site-packages\\sklearn\\utils\\validation.py:761: DataConversionWarning: A column-vector y was passed when a 1d array was expected. Please change the shape of y to (n_samples, ), for example using ravel().\n",
      "  y = column_or_1d(y, warn=True)\n"
     ]
    },
    {
     "name": "stdout",
     "output_type": "stream",
     "text": [
      "Accuracy of LDA classifier on training set: 0.64\n",
      "Accuracy of LDA classifier on test set: 0.58\n"
     ]
    }
   ],
   "source": [
    "from sklearn.discriminant_analysis import LinearDiscriminantAnalysis\n",
    "lda = LinearDiscriminantAnalysis()\n",
    "lda.fit(X_train, y_train)\n",
    "print('Accuracy of LDA classifier on training set: {:.2f}'\n",
    "     .format(lda.score(X_train, y_train)))\n",
    "print('Accuracy of LDA classifier on test set: {:.2f}'\n",
    "     .format(lda.score(X_test, y_test)))"
   ]
  },
  {
   "cell_type": "markdown",
   "metadata": {},
   "source": [
    "- Model Gaussian NB"
   ]
  },
  {
   "cell_type": "code",
   "execution_count": 127,
   "metadata": {},
   "outputs": [
    {
     "name": "stdout",
     "output_type": "stream",
     "text": [
      "Accuracy of GNB classifier on training set: 0.64\n",
      "Accuracy of GNB classifier on test set: 0.47\n"
     ]
    },
    {
     "name": "stderr",
     "output_type": "stream",
     "text": [
      "C:\\Users\\DELL\\Anaconda3\\lib\\site-packages\\sklearn\\utils\\validation.py:761: DataConversionWarning: A column-vector y was passed when a 1d array was expected. Please change the shape of y to (n_samples, ), for example using ravel().\n",
      "  y = column_or_1d(y, warn=True)\n"
     ]
    }
   ],
   "source": [
    "from sklearn.naive_bayes import GaussianNB\n",
    "gnb = GaussianNB()\n",
    "gnb.fit(X_train, y_train)\n",
    "print('Accuracy of GNB classifier on training set: {:.2f}'\n",
    "     .format(gnb.score(X_train, y_train)))\n",
    "print('Accuracy of GNB classifier on test set: {:.2f}'\n",
    "     .format(gnb.score(X_test, y_test)))"
   ]
  },
  {
   "cell_type": "markdown",
   "metadata": {},
   "source": [
    "- Model SVC"
   ]
  },
  {
   "cell_type": "code",
   "execution_count": 128,
   "metadata": {},
   "outputs": [
    {
     "name": "stdout",
     "output_type": "stream",
     "text": [
      "Accuracy of SVM classifier on training set: 0.64\n",
      "Accuracy of SVM classifier on test set: 0.50\n"
     ]
    },
    {
     "name": "stderr",
     "output_type": "stream",
     "text": [
      "C:\\Users\\DELL\\Anaconda3\\lib\\site-packages\\sklearn\\utils\\validation.py:761: DataConversionWarning: A column-vector y was passed when a 1d array was expected. Please change the shape of y to (n_samples, ), for example using ravel().\n",
      "  y = column_or_1d(y, warn=True)\n",
      "C:\\Users\\DELL\\Anaconda3\\lib\\site-packages\\sklearn\\svm\\base.py:196: FutureWarning: The default value of gamma will change from 'auto' to 'scale' in version 0.22 to account better for unscaled features. Set gamma explicitly to 'auto' or 'scale' to avoid this warning.\n",
      "  \"avoid this warning.\", FutureWarning)\n"
     ]
    }
   ],
   "source": [
    "from sklearn.svm import SVC\n",
    "svm = SVC()\n",
    "svm.fit(X_train, y_train)\n",
    "print('Accuracy of SVM classifier on training set: {:.2f}'\n",
    "     .format(svm.score(X_train, y_train)))\n",
    "print('Accuracy of SVM classifier on test set: {:.2f}'\n",
    "     .format(svm.score(X_test, y_test)))"
   ]
  },
  {
   "cell_type": "markdown",
   "metadata": {},
   "source": [
    "Berdasarkan perhitungan dengan beberapa model klasifikasi diperoleh bahwa Model Decision Tree adalah yang tebaik karena memiliki nilai akurasi training 0.93 dan nilai akurasi test 0.61."
   ]
  },
  {
   "cell_type": "code",
   "execution_count": null,
   "metadata": {},
   "outputs": [],
   "source": []
  }
 ],
 "metadata": {
  "kernelspec": {
   "display_name": "Python 3",
   "language": "python",
   "name": "python3"
  },
  "language_info": {
   "codemirror_mode": {
    "name": "ipython",
    "version": 3
   },
   "file_extension": ".py",
   "mimetype": "text/x-python",
   "name": "python",
   "nbconvert_exporter": "python",
   "pygments_lexer": "ipython3",
   "version": "3.7.3"
  }
 },
 "nbformat": 4,
 "nbformat_minor": 2
}
