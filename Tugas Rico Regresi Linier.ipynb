{
 "cells": [
  {
   "cell_type": "markdown",
   "metadata": {},
   "source": [
    "# Latihan 1\n",
    "\n",
    "## Apakah ada pengaruh usia terhadap gaji (bagaimana modelnya)\n",
    "\n",
    "a. Tentukan x (usia) dan y (salary/gaji)\n",
    "b. Tentukan b0 dan b1\n",
    "c. Dapat Modelnya\n",
    "d. Prediksi nilai jika usia 35?\n"
   ]
  },
  {
   "cell_type": "code",
   "execution_count": 48,
   "metadata": {},
   "outputs": [
    {
     "data": {
      "text/html": [
       "<div>\n",
       "<style scoped>\n",
       "    .dataframe tbody tr th:only-of-type {\n",
       "        vertical-align: middle;\n",
       "    }\n",
       "\n",
       "    .dataframe tbody tr th {\n",
       "        vertical-align: top;\n",
       "    }\n",
       "\n",
       "    .dataframe thead th {\n",
       "        text-align: right;\n",
       "    }\n",
       "</style>\n",
       "<table border=\"1\" class=\"dataframe\">\n",
       "  <thead>\n",
       "    <tr style=\"text-align: right;\">\n",
       "      <th></th>\n",
       "      <th>id</th>\n",
       "      <th>Gender</th>\n",
       "      <th>Bidang</th>\n",
       "      <th>Status</th>\n",
       "      <th>Pendidikan</th>\n",
       "      <th>Gaji</th>\n",
       "      <th>Usia</th>\n",
       "      <th>Lama_kerja</th>\n",
       "    </tr>\n",
       "  </thead>\n",
       "  <tbody>\n",
       "    <tr>\n",
       "      <th>0</th>\n",
       "      <td>1</td>\n",
       "      <td>PRIA</td>\n",
       "      <td>MARKETING</td>\n",
       "      <td>BELUM MENIKAH</td>\n",
       "      <td>SMU</td>\n",
       "      <td>138.0</td>\n",
       "      <td>24</td>\n",
       "      <td>4</td>\n",
       "    </tr>\n",
       "    <tr>\n",
       "      <th>1</th>\n",
       "      <td>2</td>\n",
       "      <td>WANITA</td>\n",
       "      <td>MARKETING</td>\n",
       "      <td>BELUM MENIKAH</td>\n",
       "      <td>SMU</td>\n",
       "      <td>294.0</td>\n",
       "      <td>22</td>\n",
       "      <td>4</td>\n",
       "    </tr>\n",
       "    <tr>\n",
       "      <th>2</th>\n",
       "      <td>3</td>\n",
       "      <td>PRIA</td>\n",
       "      <td>AKUNTANSI</td>\n",
       "      <td>MENIKAH</td>\n",
       "      <td>SARJANA</td>\n",
       "      <td>378.0</td>\n",
       "      <td>22</td>\n",
       "      <td>6</td>\n",
       "    </tr>\n",
       "    <tr>\n",
       "      <th>3</th>\n",
       "      <td>4</td>\n",
       "      <td>PRIA</td>\n",
       "      <td>AKUNTANSI</td>\n",
       "      <td>MENIKAH</td>\n",
       "      <td>AKADEMI</td>\n",
       "      <td>438.0</td>\n",
       "      <td>23</td>\n",
       "      <td>5</td>\n",
       "    </tr>\n",
       "    <tr>\n",
       "      <th>4</th>\n",
       "      <td>5</td>\n",
       "      <td>WANITA</td>\n",
       "      <td>AKUNTANSI</td>\n",
       "      <td>BELUM MENIKAH</td>\n",
       "      <td>SARJANA</td>\n",
       "      <td>690.0</td>\n",
       "      <td>25</td>\n",
       "      <td>7</td>\n",
       "    </tr>\n",
       "  </tbody>\n",
       "</table>\n",
       "</div>"
      ],
      "text/plain": [
       "   id  Gender     Bidang         Status Pendidikan   Gaji  Usia  Lama_kerja\n",
       "0   1    PRIA  MARKETING  BELUM MENIKAH        SMU  138.0    24           4\n",
       "1   2  WANITA  MARKETING  BELUM MENIKAH        SMU  294.0    22           4\n",
       "2   3    PRIA  AKUNTANSI        MENIKAH    SARJANA  378.0    22           6\n",
       "3   4    PRIA  AKUNTANSI        MENIKAH    AKADEMI  438.0    23           5\n",
       "4   5  WANITA  AKUNTANSI  BELUM MENIKAH    SARJANA  690.0    25           7"
      ]
     },
     "execution_count": 48,
     "metadata": {},
     "output_type": "execute_result"
    }
   ],
   "source": [
    "import pandas as pd\n",
    "\n",
    "with pd.ExcelFile('E:\\\\personalia.xls') as xls:\n",
    "    data = pd.read_excel(xls,'personalia')\n",
    "data.head()"
   ]
  },
  {
   "cell_type": "code",
   "execution_count": 52,
   "metadata": {},
   "outputs": [],
   "source": [
    "import numpy as np\n",
    "from sklearn.linear_model import LinearRegression\n",
    "import matplotlib.pyplot as plt"
   ]
  },
  {
   "cell_type": "code",
   "execution_count": 53,
   "metadata": {
    "scrolled": true
   },
   "outputs": [
    {
     "data": {
      "image/png": "[encoded data removed]",
      "text/plain": [
       "<Figure size 432x288 with 1 Axes>"
      ]
     },
     "metadata": {
      "needs_background": "light"
     },
     "output_type": "display_data"
    }
   ],
   "source": [
    "# x = usia y = salary\n",
    "plt.bar(data['Usia'], data['Gaji'])\n",
    "plt.xlabel(\"Usia\")\n",
    "plt.ylabel(\"Gaji\")\n",
    "plt.show()"
   ]
  },
  {
   "cell_type": "code",
   "execution_count": 54,
   "metadata": {},
   "outputs": [
    {
     "name": "stdout",
     "output_type": "stream",
     "text": [
      "[[24]\n",
      " [22]\n",
      " [22]\n",
      " [23]\n",
      " [25]\n",
      " [26]\n",
      " [26]\n",
      " [27]\n",
      " [30]\n",
      " [31]\n",
      " [31]\n",
      " [31]\n",
      " [31]\n",
      " [31]\n",
      " [32]\n",
      " [21]\n",
      " [25]\n",
      " [28]\n",
      " [30]\n",
      " [32]\n",
      " [31]\n",
      " [34]\n",
      " [34]\n",
      " [21]\n",
      " [21]\n",
      " [22]\n",
      " [23]\n",
      " [23]\n",
      " [25]\n",
      " [27]\n",
      " [28]\n",
      " [31]\n",
      " [31]\n",
      " [31]\n",
      " [31]\n",
      " [21]\n",
      " [22]\n",
      " [23]\n",
      " [23]\n",
      " [23]\n",
      " [23]\n",
      " [24]\n",
      " [24]\n",
      " [25]\n",
      " [26]\n",
      " [26]\n",
      " [27]\n",
      " [27]\n",
      " [27]\n",
      " [27]\n",
      " [27]\n",
      " [29]\n",
      " [29]\n",
      " [29]\n",
      " [31]\n",
      " [31]\n",
      " [31]\n",
      " [32]\n",
      " [34]\n",
      " [34]]\n",
      "[ 138.   294.   378.   438.   690.   462.   510.   420.6  560.  1182.\n",
      "  762.   834.   942.   483.   735.   510.   816.   747.6  781.8  744.\n",
      "  727.8 1266.   678.   222.   654.   294.   294.   498.   186.6  678.\n",
      "  498.   582.   790.8  715.2  900.   294.   342.   582.   342.   690.\n",
      "  681.   780.   582.   300.   582.   681.   294.   702.   699.   664.8\n",
      "  465.   627.   780.   672.   678.  1014.   681.   717.  1062.  1158. ]\n"
     ]
    }
   ],
   "source": [
    "x = np.array(data['Usia']).reshape(-1,1)\n",
    "y = np.array(data['Gaji'])\n",
    "\n",
    "print(x)\n",
    "print(y)"
   ]
  },
  {
   "cell_type": "code",
   "execution_count": 55,
   "metadata": {},
   "outputs": [
    {
     "data": {
      "text/plain": [
       "LinearRegression(copy_X=True, fit_intercept=True, n_jobs=None,\n",
       "         normalize=False)"
      ]
     },
     "execution_count": 55,
     "metadata": {},
     "output_type": "execute_result"
    }
   ],
   "source": [
    "model.fit(x,y)"
   ]
  },
  {
   "cell_type": "code",
   "execution_count": 56,
   "metadata": {},
   "outputs": [
    {
     "name": "stdout",
     "output_type": "stream",
     "text": [
      "intercept: -552.86\n",
      "slope: 43.19\n",
      "R²: 0.48\n",
      "Model: Gaji = -552.86 + 43.19(usia)\n"
     ]
    }
   ],
   "source": [
    "\n",
    "model = LinearRegression()\n",
    "model.fit(x,y)\n",
    "\n",
    "# b0 dan b1\n",
    "print('intercept: {:0.2f}'.format(model.intercept_))\n",
    "print('slope: {:0.2f}'.format(model.coef_[0]))\n",
    "\n",
    "# std def\n",
    "print('R\\u00b2: {:0.2f}'.format(model.score(x,y)))\n",
    "\n",
    "#m model\n",
    "print('Model: Gaji = {:0.2f} + {:0.2f}(usia)'.format(model.intercept_,model.coef_[0]))"
   ]
  },
  {
   "cell_type": "code",
   "execution_count": 57,
   "metadata": {},
   "outputs": [
    {
     "name": "stdout",
     "output_type": "stream",
     "text": [
      "Prediksi gaji untuk usia 35.00 adalah 958.68\n"
     ]
    }
   ],
   "source": [
    "usia = 35\n",
    "y_pred = model.predict(np.array(usia).reshape(-1,1))\n",
    "print('Prediksi gaji untuk usia {:0.2f} adalah {:0.2f}'.format(usia,y_pred[0]))"
   ]
  },
  {
   "cell_type": "code",
   "execution_count": null,
   "metadata": {},
   "outputs": [],
   "source": []
  }
 ],
 "metadata": {
  "kernelspec": {
   "display_name": "Python 3",
   "language": "python",
   "name": "python3"
  },
  "language_info": {
   "codemirror_mode": {
    "name": "ipython",
    "version": 3
   },
   "file_extension": ".py",
   "mimetype": "text/x-python",
   "name": "python",
   "nbconvert_exporter": "python",
   "pygments_lexer": "ipython3",
   "version": "3.7.3"
  }
 },
 "nbformat": 4,
 "nbformat_minor": 2
}
