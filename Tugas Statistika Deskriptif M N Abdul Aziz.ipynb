{
 "cells": [
  {
   "cell_type": "markdown",
   "metadata": {},
   "source": [
    "# Tugas Statistika Deskriptif"
   ]
  },
  {
   "cell_type": "markdown",
   "metadata": {},
   "source": [
    "## a"
   ]
  },
  {
   "cell_type": "code",
   "execution_count": 3,
   "metadata": {},
   "outputs": [
    {
     "name": "stdout",
     "output_type": "stream",
     "text": [
      "    id  Gender     Bidang         Status Pendidikan  Gaji_awal  Gaji_akhir  \\\n",
      "0    1    PRIA  MARKETING  BELUM MENIKAH        SMU      138.0       338.0   \n",
      "1    2  WANITA  MARKETING  BELUM MENIKAH        SMU      294.0       494.0   \n",
      "2    3    PRIA  AKUNTANSI        MENIKAH    SARJANA      378.0       578.0   \n",
      "3    4    PRIA  AKUNTANSI        MENIKAH    AKADEMI      438.0       638.0   \n",
      "4    5  WANITA  AKUNTANSI  BELUM MENIKAH    SARJANA      690.0       890.0   \n",
      "5    6  WANITA  AKUNTANSI  BELUM MENIKAH    AKADEMI      462.0       662.0   \n",
      "6    7  WANITA  MARKETING  BELUM MENIKAH        SMU      510.0       710.0   \n",
      "7    8    PRIA  AKUNTANSI  BELUM MENIKAH    AKADEMI      420.6       620.6   \n",
      "8    9    PRIA  MARKETING        MENIKAH        SMU      560.0       760.0   \n",
      "9   10    PRIA   PRODUKSI        MENIKAH    SARJANA     1182.0      1382.0   \n",
      "10  11  WANITA  MARKETING  BELUM MENIKAH    AKADEMI      762.0       962.0   \n",
      "11  12  WANITA       UMUM        MENIKAH    SARJANA      834.0      1034.0   \n",
      "12  13    PRIA   PRODUKSI        MENIKAH    SARJANA      942.0      1142.0   \n",
      "13  14  WANITA  AKUNTANSI  BELUM MENIKAH    AKADEMI      483.0       683.0   \n",
      "14  15    PRIA  AKUNTANSI        MENIKAH    SARJANA      735.0       935.0   \n",
      "15  16  WANITA  AKUNTANSI  BELUM MENIKAH    AKADEMI      510.0       710.0   \n",
      "16  17  WANITA       UMUM  BELUM MENIKAH    SARJANA      816.0      1016.0   \n",
      "17  18    PRIA       UMUM        MENIKAH    SARJANA      747.6      1047.6   \n",
      "18  19    PRIA       UMUM  BELUM MENIKAH    SARJANA      781.8      1081.8   \n",
      "19  20  WANITA       UMUM        MENIKAH    SARJANA      744.0      1044.0   \n",
      "20  21  WANITA  AKUNTANSI  BELUM MENIKAH    AKADEMI      727.8      1027.8   \n",
      "21  22    PRIA   PRODUKSI        MENIKAH    SARJANA     1266.0      1566.0   \n",
      "22  23    PRIA  AKUNTANSI  BELUM MENIKAH    SARJANA      678.0       978.0   \n",
      "23  24    PRIA  MARKETING  BELUM MENIKAH        SMU      222.0       522.0   \n",
      "24  25    PRIA       UMUM        MENIKAH    AKADEMI      654.0       954.0   \n",
      "25  26    PRIA  MARKETING  BELUM MENIKAH        SMU      294.0       594.0   \n",
      "26  27    PRIA  MARKETING        MENIKAH        SMU      294.0       594.0   \n",
      "27  28  WANITA       UMUM  BELUM MENIKAH    SARJANA      498.0       798.0   \n",
      "28  29  WANITA  MARKETING  BELUM MENIKAH        SMU      186.6       486.6   \n",
      "29  30    PRIA       UMUM        MENIKAH    SARJANA      678.0       978.0   \n",
      "30  31    PRIA       UMUM        MENIKAH    AKADEMI      498.0       798.0   \n",
      "31  32    PRIA       UMUM  BELUM MENIKAH    AKADEMI      582.0       882.0   \n",
      "32  33  WANITA       UMUM        MENIKAH    SARJANA      790.8      1090.8   \n",
      "33  34  WANITA       UMUM        MENIKAH    SARJANA      715.2      1015.2   \n",
      "34  35    PRIA       UMUM        MENIKAH    SARJANA      900.0      1200.0   \n",
      "35  36  WANITA  MARKETING  BELUM MENIKAH        SMU      294.0       594.0   \n",
      "36  37    PRIA   PRODUKSI  BELUM MENIKAH    AKADEMI      342.0       642.0   \n",
      "37  38  WANITA   PRODUKSI  BELUM MENIKAH    AKADEMI      582.0       882.0   \n",
      "38  39    PRIA  AKUNTANSI        MENIKAH    AKADEMI      342.0       642.0   \n",
      "39  40    PRIA   PRODUKSI        MENIKAH    AKADEMI      690.0       990.0   \n",
      "40  41    PRIA   PRODUKSI        MENIKAH    AKADEMI      681.0       981.0   \n",
      "41  42  WANITA   PRODUKSI  BELUM MENIKAH    SARJANA      780.0      1080.0   \n",
      "42  43  WANITA   PRODUKSI        MENIKAH    AKADEMI      582.0       882.0   \n",
      "43  44  WANITA  MARKETING  BELUM MENIKAH        SMU      300.0       600.0   \n",
      "44  45  WANITA   PRODUKSI        MENIKAH    AKADEMI      582.0       882.0   \n",
      "45  46  WANITA   PRODUKSI        MENIKAH    SARJANA      681.0       981.0   \n",
      "46  47    PRIA  MARKETING        MENIKAH        SMU      294.0       594.0   \n",
      "47  48    PRIA   PRODUKSI  BELUM MENIKAH    SARJANA      702.0      1002.0   \n",
      "48  49    PRIA   PRODUKSI  BELUM MENIKAH    AKADEMI      699.0       999.0   \n",
      "49  50    PRIA   PRODUKSI  BELUM MENIKAH    AKADEMI      664.8       964.8   \n",
      "50  51  WANITA   PRODUKSI  BELUM MENIKAH    AKADEMI      465.0       765.0   \n",
      "51  52    PRIA  AKUNTANSI        MENIKAH    AKADEMI      627.0       927.0   \n",
      "52  53  WANITA  AKUNTANSI        MENIKAH    SARJANA      780.0      1080.0   \n",
      "53  54    PRIA  AKUNTANSI  BELUM MENIKAH    AKADEMI      672.0       972.0   \n",
      "54  55    PRIA       UMUM  BELUM MENIKAH    SARJANA      678.0       978.0   \n",
      "55  56  WANITA   PRODUKSI  BELUM MENIKAH    SARJANA     1014.0      1314.0   \n",
      "56  57  WANITA       UMUM  BELUM MENIKAH    AKADEMI      681.0       981.0   \n",
      "57  58    PRIA  AKUNTANSI        MENIKAH    AKADEMI      717.0       867.0   \n",
      "58  59    PRIA   PRODUKSI        MENIKAH    SARJANA     1062.0      1212.0   \n",
      "59  60  WANITA   PRODUKSI  BELUM MENIKAH    SARJANA     1158.0      1308.0   \n",
      "\n",
      "    Usia  Lama_kerja  \n",
      "0     24           4  \n",
      "1     22           4  \n",
      "2     22           6  \n",
      "3     23           5  \n",
      "4     25           7  \n",
      "5     26           6  \n",
      "6     26           6  \n",
      "7     27           5  \n",
      "8     30           7  \n",
      "9     31           9  \n",
      "10    31           6  \n",
      "11    31           9  \n",
      "12    31           9  \n",
      "13    31           6  \n",
      "14    32           8  \n",
      "15    21           6  \n",
      "16    25           8  \n",
      "17    28           8  \n",
      "18    30           7  \n",
      "19    32           8  \n",
      "20    31           9  \n",
      "21    34          12  \n",
      "22    34           7  \n",
      "23    21           3  \n",
      "24    21           7  \n",
      "25    22           4  \n",
      "26    23           5  \n",
      "27    23           6  \n",
      "28    25           5  \n",
      "29    27           8  \n",
      "30    28           5  \n",
      "31    31           6  \n",
      "32    31           8  \n",
      "33    31           6  \n",
      "34    31           9  \n",
      "35    21           4  \n",
      "36    22           4  \n",
      "37    23           7  \n",
      "38    23          12  \n",
      "39    23           8  \n",
      "40    23           7  \n",
      "41    24           8  \n",
      "42    24           6  \n",
      "43    25           6  \n",
      "44    26           4  \n",
      "45    26           7  \n",
      "46    27           4  \n",
      "47    27           7  \n",
      "48    27           7  \n",
      "49    27           6  \n",
      "50    27           6  \n",
      "51    29           7  \n",
      "52    29           8  \n",
      "53    29           7  \n",
      "54    31           7  \n",
      "55    31           7  \n",
      "56    31           7  \n",
      "57    32           5  \n",
      "58    34          10  \n",
      "59    34           4  \n"
     ]
    }
   ],
   "source": [
    "import pandas as pd\n",
    "\n",
    "with pd.ExcelFile('F:\\\\Latihan Python DTS\\\\karyawan.xls') as xls:\n",
    "    dkry1 = pd.read_excel(xls,'personalia1')\n",
    "    \n",
    "print(dkry1)"
   ]
  },
  {
   "cell_type": "code",
   "execution_count": 11,
   "metadata": {},
   "outputs": [
    {
     "data": {
      "image/png": "[encoded data removed]",
      "text/plain": [
       "<Figure size 432x288 with 1 Axes>"
      ]
     },
     "metadata": {
      "needs_background": "light"
     },
     "output_type": "display_data"
    }
   ],
   "source": [
    "import matplotlib.pyplot as plt\n",
    "plt.hist(dkry1['Gaji_awal'])\n",
    "plt.show()"
   ]
  },
  {
   "cell_type": "code",
   "execution_count": 28,
   "metadata": {},
   "outputs": [
    {
     "data": {
      "image/png": "[encoded data removed]",
      "text/plain": [
       "<Figure size 432x288 with 1 Axes>"
      ]
     },
     "metadata": {
      "needs_background": "light"
     },
     "output_type": "display_data"
    }
   ],
   "source": [
    "import matplotlib.pyplot as plt\n",
    "plt.hist(dkry1['Gaji_akhir'])\n",
    "plt.show()"
   ]
  },
  {
   "cell_type": "code",
   "execution_count": 25,
   "metadata": {},
   "outputs": [
    {
     "name": "stdout",
     "output_type": "stream",
     "text": [
      "Bidang\n",
      "AKUNTANSI    15\n",
      "MARKETING    12\n",
      "PRODUKSI     18\n",
      "UMUM         15\n",
      "Name: id, dtype: int64\n"
     ]
    },
    {
     "data": {
      "image/png": "[encoded data removed]",
      "text/plain": [
       "<Figure size 432x288 with 1 Axes>"
      ]
     },
     "metadata": {
      "needs_background": "light"
     },
     "output_type": "display_data"
    }
   ],
   "source": [
    "import matplotlib.pyplot as plt\n",
    "data1 = dkry1.groupby('Bidang')['id'].nunique()\n",
    "print(data1)\n",
    "data1.plot.bar()\n",
    "\n",
    "plt.show()"
   ]
  },
  {
   "cell_type": "code",
   "execution_count": 26,
   "metadata": {
    "scrolled": true
   },
   "outputs": [
    {
     "name": "stdout",
     "output_type": "stream",
     "text": [
      "Gender\n",
      "PRIA      33\n",
      "WANITA    27\n",
      "Name: id, dtype: int64\n"
     ]
    },
    {
     "data": {
      "image/png": "[encoded data removed]",
      "text/plain": [
       "<Figure size 432x288 with 1 Axes>"
      ]
     },
     "metadata": {
      "needs_background": "light"
     },
     "output_type": "display_data"
    }
   ],
   "source": [
    "data1 = dkry1.groupby('Gender')['id'].nunique()\n",
    "print(data1)\n",
    "data1.plot.bar()\n",
    "\n",
    "plt.show()"
   ]
  },
  {
   "cell_type": "markdown",
   "metadata": {},
   "source": [
    "## b"
   ]
  },
  {
   "cell_type": "code",
   "execution_count": 34,
   "metadata": {},
   "outputs": [
    {
     "name": "stdout",
     "output_type": "stream",
     "text": [
      "      Bidang Gender  AVG(Gaji_awal)\n",
      "0  AKUNTANSI   PRIA      556.400000\n",
      "1  MARKETING   PRIA      300.333333\n",
      "2   PRODUKSI   PRIA      823.080000\n",
      "3       UMUM   PRIA      689.925000 \n",
      "\n",
      "      Bidang  Gender  AVG(Gaji_awal)\n",
      "0  AKUNTANSI  WANITA      608.800000\n",
      "1  MARKETING  WANITA      391.100000\n",
      "2   PRODUKSI  WANITA      730.500000\n",
      "3       UMUM  WANITA      725.571429\n"
     ]
    }
   ],
   "source": [
    "from sqlalchemy import create_engine\n",
    "import pandas as pd\n",
    "\n",
    "with pd.ExcelFile('F:\\Latihan Python DTS\\karyawan.xls') as xls:\n",
    "    dkry1 = pd.read_excel(xls,'personalia1')\n",
    "    \n",
    "engine = create_engine('sqlite:///:memory:')\n",
    "\n",
    "dkry1.to_sql('personalia1',engine)\n",
    "\n",
    "res4 = pd.read_sql_query('SELECT Bidang, Gender, AVG(Gaji_awal) FROM personalia1 GROUP BY Bidang, Gender HAVING Gender = \"PRIA\"',engine)\n",
    "res5 = pd.read_sql_query('SELECT Bidang, Gender, AVG(Gaji_awal) FROM personalia1 GROUP BY Bidang, Gender HAVING Gender = \"WANITA\"',engine)\n",
    "print(res4,'\\n')\n",
    "print(res5)"
   ]
  },
  {
   "cell_type": "code",
   "execution_count": 35,
   "metadata": {},
   "outputs": [
    {
     "data": {
      "image/png": "[encoded data removed]",
      "text/plain": [
       "<Figure size 432x288 with 1 Axes>"
      ]
     },
     "metadata": {
      "needs_background": "light"
     },
     "output_type": "display_data"
    }
   ],
   "source": [
    "import matplotlib.pyplot as plt\n",
    "plt.plot(res4['Bidang'],res4['AVG(Gaji_awal)'],res5['Bidang'],res5['AVG(Gaji_awal)'])\n",
    "plt.show()"
   ]
  },
  {
   "cell_type": "markdown",
   "metadata": {},
   "source": [
    "## c"
   ]
  },
  {
   "cell_type": "code",
   "execution_count": 3,
   "metadata": {},
   "outputs": [
    {
     "name": "stdout",
     "output_type": "stream",
     "text": [
      "Rata-rata gaji awal karyawan adalah  624.7033333333333\n",
      "Standar deviasi gaji awal karyawan adalah  244.2304482514564\n",
      "Rata-rata gaji akhir karyawan adalah  888.87\n",
      "Standar deviasi gaji akhir karyawan adalah  241.9526801333864\n",
      "Rata-rata usia karyawan adalah  27.266666666666666\n",
      "Standar deviasi usia karyawan adalah  3.9267300696060103\n"
     ]
    }
   ],
   "source": [
    "import pandas as pd\n",
    "import numpy as np\n",
    "\n",
    "with pd.ExcelFile('F:\\\\Latihan Python DTS\\\\karyawan.xls') as xls:\n",
    "    dkry1 = pd.read_excel(xls,'personalia1')\n",
    "\n",
    "meanGajiAwal = dkry1['Gaji_awal'].mean()\n",
    "stdGajiAwal = dkry1['Gaji_awal'].std()\n",
    "meanGajiAkhir = dkry1['Gaji_akhir'].mean()\n",
    "stdGajiAkhir = dkry1['Gaji_akhir'].std()\n",
    "meanUsia = dkry1['Usia'].mean()\n",
    "stdUsia = dkry1['Usia'].std()\n",
    "\n",
    "print('Rata-rata gaji awal karyawan adalah ',meanGajiAwal)\n",
    "print('Standar deviasi gaji awal karyawan adalah ',stdGajiAwal)\n",
    "print('Rata-rata gaji akhir karyawan adalah ',meanGajiAkhir)\n",
    "print('Standar deviasi gaji akhir karyawan adalah ',stdGajiAkhir)\n",
    "print('Rata-rata usia karyawan adalah ',meanUsia)\n",
    "print('Standar deviasi usia karyawan adalah ',stdUsia)"
   ]
  },
  {
   "cell_type": "code",
   "execution_count": null,
   "metadata": {},
   "outputs": [],
   "source": []
  }
 ],
 "metadata": {
  "kernelspec": {
   "display_name": "Python 3",
   "language": "python",
   "name": "python3"
  },
  "language_info": {
   "codemirror_mode": {
    "name": "ipython",
    "version": 3
   },
   "file_extension": ".py",
   "mimetype": "text/x-python",
   "name": "python",
   "nbconvert_exporter": "python",
   "pygments_lexer": "ipython3",
   "version": "3.7.3"
  }
 },
 "nbformat": 4,
 "nbformat_minor": 2
}
